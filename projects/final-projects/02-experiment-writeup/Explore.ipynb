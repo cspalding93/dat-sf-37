{
 "cells": [
  {
   "cell_type": "markdown",
   "metadata": {},
   "source": [
    "# Project Design Writeup and Approval\n",
    "\n",
    "### Project Problem and Hypothesis\n",
    "\n",
    "* What's the project about? What problem are you solving?\n",
    "  * This project is to verify Angela Duckworth's study on \"Grit\" and attempt to expand on it with other features presant in their dataset.\n",
    "  * On average, individuals who are gritty are more self-controlled, but the correlation between these two traits is not perfect: Some individuals are paragons of grit but not self-control, and some exceptionally well-regulated individuals are not especially gritty (Duckworth & Gross, 2014)\n",
    "* Where does this seem to reside as a machine learning problem? Are you predicting some continuous number, or predicting a binary value?\n",
    "  * This dataset has many features and I have the opportunity to try different hypothesis.  My main focus will be to predict a \"grit\" score from personality traits and demographic data.  This will be a ordinal label being between 1 and 5.\n",
    "* What kind of impact do you think it could have?\n",
    "  * This study was done to measure grit and find how gritty people behave.  The impact will be better knowledge of big 5 personality traits across demographics and predictors of grittiness.\n",
    "* What do you think will have the most impact in predicting the value you are interested in solving for?\n",
    "  * Grit seems to come naturally to some, but if you find you grit score is low, you can address this and take steps to get things done.\n",
    "\n",
    "### Datasets\n",
    "\n",
    "* Description of data set available, at the field level (see table)\n",
    "  * The following are the fields in the dataset:  country\tsurveyelapse\tgritscore\tvalidation/lie\teducation\turban\tgender\tengnat\tage\thand\treligion\torientation\trace\tvoted\tmarried\tfamilysize\tBig5\toperatingsystem\tbrowser\tscreenw\tscreenh\tintroelapse\ttestelapse\n",
    "* Domain knowledge\n",
    "  * Although I'm not a psychologist, I find the science of behavior and mind fascinating.  My interest coupled with data science skills should allow for some general psychology validation.\n",
    "\n",
    "### What experience do you already have around this area?\n",
    "* Does it relate or help inform the project in any way?\n",
    "  * I have a personal interest in the field.  I will be looking at differences between men/women, races, orientation, etc. and finding how they relate to grit scores and big 5 personality traits.\n",
    "* What other research efforts exist?\n",
    "  * This is based on the research effor the data came from:  http://angeladuckworth.com/\n",
    "* Include a benchmark, how other models have performed, even if you are unsure what the metric means.\n",
    "  * http://angeladuckworth.com/grit-scale/\n",
    "  * This is a test to calculate a grit score, but we might be able to predict it without a test.\n",
    "\n",
    "### Project Concerns\n",
    "\n",
    "* What questions do you have about your project? What are you not sure you quite yet understand? (The more honest you are about this, the easier your instructors can help).\n",
    "  * I need to do some formatting of the columns.  Grit, validation, and big 5 only have the answers to the questions, not the final score.  I'll need to calculate that.  \n",
    "* What are the assumptions and caveats to the problem?\n",
    "  * There are differences between demographics and grit/big 5 personality traits.\n",
    "  * Grit is predictable from demographic features and big 5 personality traits.\n",
    "* What data do you not have access to but wish you had?\n",
    "  * I wish IQ was added to this dataset.\n",
    "* What is already implied about the observations in your data set? For example, if your primary data set is twitter data, it may not be representative of the whole sample (say, predicting who would win an election)\n",
    "  * Surveys do not accuratly observe people.\n",
    "  * The grit questions have some flaws (takers would rather talk about the answer rather than be put in a box).\n",
    "  * The data contains only a certain type of persons (those willing to participate in this study and possibly those interested in finding their grit score).\n",
    "* What are the risks to the project?\n",
    "  * I may find that the correlations are weak and grit is hard to predict with the data I have.\n",
    "* What's the cost of your model being wrong? (What's the benefit of your model being right?)\n",
    "  * Someone may act diferently depending on what is predicted of them.  Having a low grit score might make someone work harder to prove it wrong or be discouraging.\n",
    "* Is any of the data incorrect? Could it be incorrect?\n",
    "  * There is some validation data.  A few columns ask if the user is certain they know the definition of a word and some of the words are made up.  This will be fun to incorporate.  I could add a \"liar\" column or use it to invalidate the row.\n",
    "\n",
    "### Outcomes\n",
    "\n",
    "* What do you expect the output to look like?\n",
    "  * I hope to have a model to describe grittiness as well as visualizations and statistics about big 5 personality traits as well as grit.\n",
    "* What does your target audience expect the output to look like?\n",
    "  * Someone with an interest in psychology might more appreciate a statistical analysis (descriptive) rather than a prediction, but I think both can be valuable.  \n",
    "* What gain do you expect from your most important feature on its own?\n",
    "  * I expect concientousness to be most of the grit prediction, and I expect gender to show a great difference in concientiousness and agreeableness.\n",
    "* How complicated does your model have to be?\n",
    "  * For a descriptive analysis, a decision tree or linear regression can produce a simple model to explain the data.  To accurately predict grit, it may be worth it to have a more complex model.\n",
    "* How successful does your project have to be in order to be considered a \"success\"?\n",
    "  * I think I will find a lot of good predictors and correlations between the demographic data.  For every interesting correlation I find, I'll consider it an incremental success.\n",
    "* What will you do if the project is a bust (this happens! but it shouldn't here)?\n",
    "  * It won't be!  But if it is, I can do some simple big 5 analysis or studying of the features according to each other."
   ]
  },
  {
   "cell_type": "code",
   "execution_count": 1,
   "metadata": {
    "collapsed": true
   },
   "outputs": [],
   "source": [
    "import pandas as pd\n",
    "import seaborn as sns\n",
    "%matplotlib inline"
   ]
  },
  {
   "cell_type": "code",
   "execution_count": 2,
   "metadata": {
    "collapsed": true
   },
   "outputs": [],
   "source": [
    "full = pd.read_csv(\"../duckworth-grit-scale-data/csvData.csv\")"
   ]
  },
  {
   "cell_type": "code",
   "execution_count": 3,
   "metadata": {},
   "outputs": [
    {
     "data": {
      "text/plain": [
       "4271"
      ]
     },
     "execution_count": 3,
     "metadata": {},
     "output_type": "execute_result"
    }
   ],
   "source": [
    "len(full)"
   ]
  },
  {
   "cell_type": "code",
   "execution_count": 4,
   "metadata": {},
   "outputs": [
    {
     "data": {
      "text/html": [
       "<div>\n",
       "<style>\n",
       "    .dataframe thead tr:only-child th {\n",
       "        text-align: right;\n",
       "    }\n",
       "\n",
       "    .dataframe thead th {\n",
       "        text-align: left;\n",
       "    }\n",
       "\n",
       "    .dataframe tbody tr th {\n",
       "        vertical-align: top;\n",
       "    }\n",
       "</style>\n",
       "<table border=\"1\" class=\"dataframe\">\n",
       "  <thead>\n",
       "    <tr style=\"text-align: right;\">\n",
       "      <th></th>\n",
       "      <th>country</th>\n",
       "      <th>surveyelapse</th>\n",
       "      <th>GS1</th>\n",
       "      <th>GS2</th>\n",
       "      <th>GS3</th>\n",
       "      <th>GS4</th>\n",
       "      <th>GS5</th>\n",
       "      <th>GS6</th>\n",
       "      <th>GS7</th>\n",
       "      <th>GS8</th>\n",
       "      <th>...</th>\n",
       "      <th>O7</th>\n",
       "      <th>O8</th>\n",
       "      <th>O9</th>\n",
       "      <th>O10</th>\n",
       "      <th>operatingsystem</th>\n",
       "      <th>browser</th>\n",
       "      <th>screenw</th>\n",
       "      <th>screenh</th>\n",
       "      <th>introelapse</th>\n",
       "      <th>testelapse</th>\n",
       "    </tr>\n",
       "  </thead>\n",
       "  <tbody>\n",
       "    <tr>\n",
       "      <th>0</th>\n",
       "      <td>RO</td>\n",
       "      <td>174.0</td>\n",
       "      <td>1.0</td>\n",
       "      <td>1.0</td>\n",
       "      <td>3.0</td>\n",
       "      <td>3.0</td>\n",
       "      <td>3.0</td>\n",
       "      <td>2.0</td>\n",
       "      <td>3.0</td>\n",
       "      <td>1.0</td>\n",
       "      <td>...</td>\n",
       "      <td>5.0</td>\n",
       "      <td>4.0</td>\n",
       "      <td>5.0</td>\n",
       "      <td>4.0</td>\n",
       "      <td>Windows</td>\n",
       "      <td>Chrome</td>\n",
       "      <td>1366.0</td>\n",
       "      <td>768.0</td>\n",
       "      <td>69590.0</td>\n",
       "      <td>307.0</td>\n",
       "    </tr>\n",
       "    <tr>\n",
       "      <th>1</th>\n",
       "      <td>US</td>\n",
       "      <td>120.0</td>\n",
       "      <td>2.0</td>\n",
       "      <td>2.0</td>\n",
       "      <td>3.0</td>\n",
       "      <td>3.0</td>\n",
       "      <td>2.0</td>\n",
       "      <td>1.0</td>\n",
       "      <td>3.0</td>\n",
       "      <td>3.0</td>\n",
       "      <td>...</td>\n",
       "      <td>4.0</td>\n",
       "      <td>3.0</td>\n",
       "      <td>4.0</td>\n",
       "      <td>5.0</td>\n",
       "      <td>Macintosh</td>\n",
       "      <td>Chrome</td>\n",
       "      <td>1280.0</td>\n",
       "      <td>800.0</td>\n",
       "      <td>33657.0</td>\n",
       "      <td>134.0</td>\n",
       "    </tr>\n",
       "    <tr>\n",
       "      <th>2</th>\n",
       "      <td>US</td>\n",
       "      <td>99.0</td>\n",
       "      <td>3.0</td>\n",
       "      <td>3.0</td>\n",
       "      <td>3.0</td>\n",
       "      <td>3.0</td>\n",
       "      <td>4.0</td>\n",
       "      <td>3.0</td>\n",
       "      <td>4.0</td>\n",
       "      <td>4.0</td>\n",
       "      <td>...</td>\n",
       "      <td>5.0</td>\n",
       "      <td>5.0</td>\n",
       "      <td>4.0</td>\n",
       "      <td>4.0</td>\n",
       "      <td>Windows</td>\n",
       "      <td>Firefox</td>\n",
       "      <td>1920.0</td>\n",
       "      <td>1080.0</td>\n",
       "      <td>95550.0</td>\n",
       "      <td>138.0</td>\n",
       "    </tr>\n",
       "    <tr>\n",
       "      <th>3</th>\n",
       "      <td>KE</td>\n",
       "      <td>5098.0</td>\n",
       "      <td>1.0</td>\n",
       "      <td>3.0</td>\n",
       "      <td>4.0</td>\n",
       "      <td>2.0</td>\n",
       "      <td>4.0</td>\n",
       "      <td>1.0</td>\n",
       "      <td>5.0</td>\n",
       "      <td>4.0</td>\n",
       "      <td>...</td>\n",
       "      <td>4.0</td>\n",
       "      <td>2.0</td>\n",
       "      <td>5.0</td>\n",
       "      <td>4.0</td>\n",
       "      <td>Windows</td>\n",
       "      <td>Chrome</td>\n",
       "      <td>1600.0</td>\n",
       "      <td>900.0</td>\n",
       "      <td>4.0</td>\n",
       "      <td>4440.0</td>\n",
       "    </tr>\n",
       "    <tr>\n",
       "      <th>4</th>\n",
       "      <td>JP</td>\n",
       "      <td>340.0</td>\n",
       "      <td>1.0</td>\n",
       "      <td>2.0</td>\n",
       "      <td>3.0</td>\n",
       "      <td>3.0</td>\n",
       "      <td>2.0</td>\n",
       "      <td>2.0</td>\n",
       "      <td>2.0</td>\n",
       "      <td>4.0</td>\n",
       "      <td>...</td>\n",
       "      <td>4.0</td>\n",
       "      <td>1.0</td>\n",
       "      <td>3.0</td>\n",
       "      <td>2.0</td>\n",
       "      <td>Windows</td>\n",
       "      <td>Firefox</td>\n",
       "      <td>1920.0</td>\n",
       "      <td>1080.0</td>\n",
       "      <td>3.0</td>\n",
       "      <td>337.0</td>\n",
       "    </tr>\n",
       "  </tbody>\n",
       "</table>\n",
       "<p>5 rows × 98 columns</p>\n",
       "</div>"
      ],
      "text/plain": [
       "  country  surveyelapse  GS1  GS2  GS3  GS4  GS5  GS6  GS7  GS8     ...      \\\n",
       "0      RO         174.0  1.0  1.0  3.0  3.0  3.0  2.0  3.0  1.0     ...       \n",
       "1      US         120.0  2.0  2.0  3.0  3.0  2.0  1.0  3.0  3.0     ...       \n",
       "2      US          99.0  3.0  3.0  3.0  3.0  4.0  3.0  4.0  4.0     ...       \n",
       "3      KE        5098.0  1.0  3.0  4.0  2.0  4.0  1.0  5.0  4.0     ...       \n",
       "4      JP         340.0  1.0  2.0  3.0  3.0  2.0  2.0  2.0  4.0     ...       \n",
       "\n",
       "    O7   O8   O9  O10  operatingsystem  browser  screenw  screenh  \\\n",
       "0  5.0  4.0  5.0  4.0          Windows   Chrome   1366.0    768.0   \n",
       "1  4.0  3.0  4.0  5.0        Macintosh   Chrome   1280.0    800.0   \n",
       "2  5.0  5.0  4.0  4.0          Windows  Firefox   1920.0   1080.0   \n",
       "3  4.0  2.0  5.0  4.0          Windows   Chrome   1600.0    900.0   \n",
       "4  4.0  1.0  3.0  2.0          Windows  Firefox   1920.0   1080.0   \n",
       "\n",
       "   introelapse  testelapse  \n",
       "0      69590.0       307.0  \n",
       "1      33657.0       134.0  \n",
       "2      95550.0       138.0  \n",
       "3          4.0      4440.0  \n",
       "4          3.0       337.0  \n",
       "\n",
       "[5 rows x 98 columns]"
      ]
     },
     "execution_count": 4,
     "metadata": {},
     "output_type": "execute_result"
    }
   ],
   "source": [
    "full.head()"
   ]
  },
  {
   "cell_type": "code",
   "execution_count": 5,
   "metadata": {},
   "outputs": [
    {
     "name": "stdout",
     "output_type": "stream",
     "text": [
      "<class 'pandas.core.frame.DataFrame'>\n",
      "RangeIndex: 4271 entries, 0 to 4270\n",
      "Data columns (total 98 columns):\n",
      "country            4226 non-null object\n",
      "surveyelapse       4270 non-null float64\n",
      "GS1                4270 non-null float64\n",
      "GS2                4270 non-null float64\n",
      "GS3                4270 non-null float64\n",
      "GS4                4270 non-null float64\n",
      "GS5                4270 non-null float64\n",
      "GS6                4270 non-null float64\n",
      "GS7                4270 non-null float64\n",
      "GS8                4270 non-null float64\n",
      "GS9                4270 non-null float64\n",
      "GS10               4270 non-null float64\n",
      "GS11               4270 non-null float64\n",
      "GS12               4270 non-null float64\n",
      "VCL1               4270 non-null float64\n",
      "VCL2               4270 non-null float64\n",
      "VCL3               4270 non-null float64\n",
      "VCL4               4270 non-null float64\n",
      "VCL5               4270 non-null float64\n",
      "VCL6               4270 non-null float64\n",
      "VCL7               4270 non-null float64\n",
      "VCL8               4270 non-null float64\n",
      "VCL9               4270 non-null float64\n",
      "VCL10              4270 non-null float64\n",
      "VCL11              4270 non-null float64\n",
      "VCL12              4270 non-null float64\n",
      "VCL13              4270 non-null float64\n",
      "VCL14              4270 non-null float64\n",
      "VCL15              4270 non-null float64\n",
      "VCL16              4270 non-null float64\n",
      "education          4270 non-null float64\n",
      "urban              4270 non-null float64\n",
      "gender             4270 non-null float64\n",
      "engnat             4270 non-null float64\n",
      "age                4270 non-null float64\n",
      "hand               4270 non-null float64\n",
      "religion           4270 non-null float64\n",
      "orientation        4270 non-null float64\n",
      "race               4270 non-null float64\n",
      "voted              4270 non-null float64\n",
      "married            4270 non-null float64\n",
      "familysize         4270 non-null float64\n",
      "E1                 4270 non-null float64\n",
      "E2                 4270 non-null float64\n",
      "E3                 4270 non-null float64\n",
      "E4                 4270 non-null float64\n",
      "E5                 4270 non-null float64\n",
      "E6                 4270 non-null float64\n",
      "E7                 4270 non-null float64\n",
      "E8                 4270 non-null float64\n",
      "E9                 4270 non-null float64\n",
      "E10                4270 non-null float64\n",
      "N1                 4270 non-null float64\n",
      "N2                 4270 non-null float64\n",
      "N3                 4270 non-null float64\n",
      "N4                 4270 non-null float64\n",
      "N5                 4270 non-null float64\n",
      "N6                 4270 non-null float64\n",
      "N7                 4270 non-null float64\n",
      "N8                 4270 non-null float64\n",
      "N9                 4270 non-null float64\n",
      "N10                4270 non-null float64\n",
      "A1                 4270 non-null float64\n",
      "A2                 4270 non-null float64\n",
      "A3                 4270 non-null float64\n",
      "A4                 4270 non-null float64\n",
      "A5                 4270 non-null float64\n",
      "A6                 4270 non-null float64\n",
      "A7                 4270 non-null float64\n",
      "A8                 4270 non-null float64\n",
      "A9                 4270 non-null float64\n",
      "A10                4270 non-null float64\n",
      "C1                 4270 non-null float64\n",
      "C2                 4270 non-null float64\n",
      "C3                 4270 non-null float64\n",
      "C4                 4270 non-null float64\n",
      "C5                 4270 non-null float64\n",
      "C6                 4270 non-null float64\n",
      "C7                 4270 non-null float64\n",
      "C8                 4270 non-null float64\n",
      "C9                 4270 non-null float64\n",
      "C10                4270 non-null float64\n",
      "O1                 4270 non-null float64\n",
      "O2                 4270 non-null float64\n",
      "O3                 4270 non-null float64\n",
      "O4                 4270 non-null float64\n",
      "O5                 4270 non-null float64\n",
      "O6                 4270 non-null float64\n",
      "O7                 4270 non-null float64\n",
      "O8                 4270 non-null float64\n",
      "O9                 4270 non-null float64\n",
      "O10                4270 non-null float64\n",
      "operatingsystem    4270 non-null object\n",
      "browser            4270 non-null object\n",
      "screenw            4270 non-null float64\n",
      "screenh            4270 non-null float64\n",
      "introelapse        4270 non-null float64\n",
      "testelapse         4270 non-null float64\n",
      "dtypes: float64(95), object(3)\n",
      "memory usage: 3.2+ MB\n"
     ]
    }
   ],
   "source": [
    "full.info()"
   ]
  },
  {
   "cell_type": "code",
   "execution_count": 6,
   "metadata": {
    "collapsed": true
   },
   "outputs": [],
   "source": [
    "from random import shuffle\n",
    "n = 4271 #number of rows in your dataset\n",
    "indices = range(n)\n",
    "shuffle(indices)\n",
    "#print \"train indices:\", indices[:3300]\n",
    "#print \"test indices:\", indices[3300:]\n",
    "\n",
    "df = full.loc[indices[:3300]]"
   ]
  },
  {
   "cell_type": "code",
   "execution_count": 7,
   "metadata": {
    "collapsed": true
   },
   "outputs": [],
   "source": [
    "df = df.dropna()"
   ]
  },
  {
   "cell_type": "code",
   "execution_count": 8,
   "metadata": {},
   "outputs": [
    {
     "data": {
      "text/plain": [
       "3267"
      ]
     },
     "execution_count": 8,
     "metadata": {},
     "output_type": "execute_result"
    }
   ],
   "source": [
    "len(df)"
   ]
  },
  {
   "cell_type": "code",
   "execution_count": 9,
   "metadata": {
    "collapsed": true
   },
   "outputs": [],
   "source": [
    "df['grit'] = (df['GS1'] + df['GS4'] + df['GS6'] + df['GS9'] + df['GS10'] + df['GS12'] +\n",
    "             (6-df['GS2']) + (6-df['GS3']) + (6-df['GS5']) + (6-df['GS7']) + (6-df['GS8']) + (6-df['GS11']))/12"
   ]
  },
  {
   "cell_type": "code",
   "execution_count": 10,
   "metadata": {},
   "outputs": [
    {
     "data": {
      "text/plain": [
       "1527    2.500000\n",
       "500     1.583333\n",
       "3703    2.500000\n",
       "2074    2.750000\n",
       "2279    3.083333\n",
       "Name: grit, dtype: float64"
      ]
     },
     "execution_count": 10,
     "metadata": {},
     "output_type": "execute_result"
    }
   ],
   "source": [
    "df['grit'].head()"
   ]
  },
  {
   "cell_type": "code",
   "execution_count": 11,
   "metadata": {
    "collapsed": true
   },
   "outputs": [],
   "source": [
    "df['extroversion'] = df['E1'] + (6-df['E2']) + df['E3'] + (6-df['E4']) + df['E5'] + (6-df['E6']) + \\\n",
    "                    df['E7'] + (6-df['E8']) + df['E9'] + (6-df['E10'])"
   ]
  },
  {
   "cell_type": "code",
   "execution_count": 12,
   "metadata": {},
   "outputs": [
    {
     "data": {
      "text/plain": [
       "1527    16.0\n",
       "500     45.0\n",
       "3703    41.0\n",
       "2074    17.0\n",
       "2279    22.0\n",
       "Name: extroversion, dtype: float64"
      ]
     },
     "execution_count": 12,
     "metadata": {},
     "output_type": "execute_result"
    }
   ],
   "source": [
    "df['extroversion'].head()"
   ]
  },
  {
   "cell_type": "code",
   "execution_count": 13,
   "metadata": {
    "collapsed": true
   },
   "outputs": [],
   "source": [
    "df['neuroticism'] = df['N1'] + (6-df['N2']) + df['N3'] + (6-df['N4']) + df['N5'] + df['N6'] + \\\n",
    "                    df['N7'] + df['N8'] + df['N9'] + df['N10']"
   ]
  },
  {
   "cell_type": "code",
   "execution_count": 14,
   "metadata": {
    "collapsed": true
   },
   "outputs": [],
   "source": [
    "df['agreeableness'] = (6-df['A1']) + df['A2'] + (6-df['A3']) + df['A4'] + (6-df['A5']) + df['A6'] + \\\n",
    "                      (6-df['A7']) + df['A8'] + df['A9'] + df['A10']"
   ]
  },
  {
   "cell_type": "code",
   "execution_count": 15,
   "metadata": {
    "collapsed": true
   },
   "outputs": [],
   "source": [
    "df['conscientiousness'] = df['C1'] + (6-df['C2']) + df['C3'] + (6-df['C4']) + df['C5'] + (6-df['C6']) + \\\n",
    "                          df['C7'] + (6-df['C8']) + df['C9'] + df['C10']"
   ]
  },
  {
   "cell_type": "code",
   "execution_count": 16,
   "metadata": {
    "collapsed": true
   },
   "outputs": [],
   "source": [
    "df['openness'] = df['O1'] + (6-df['O2']) + df['O3'] + (6-df['O4']) + df['O5'] + (6-df['O6']) + \\\n",
    "                 df['O7'] + (6-df['O8']) + df['O9'] + df['O10']#5?10?"
   ]
  },
  {
   "cell_type": "code",
   "execution_count": 17,
   "metadata": {
    "collapsed": true
   },
   "outputs": [],
   "source": [
    "df = df.join(pd.get_dummies(df['operatingsystem'],prefix='os'))"
   ]
  },
  {
   "cell_type": "code",
   "execution_count": 18,
   "metadata": {
    "collapsed": true
   },
   "outputs": [],
   "source": [
    "df = df.join(pd.get_dummies(df['browser'],prefix='browser'))"
   ]
  },
  {
   "cell_type": "code",
   "execution_count": 19,
   "metadata": {
    "collapsed": true
   },
   "outputs": [],
   "source": [
    "df = df.join(pd.get_dummies(df['country'],prefix='country'))"
   ]
  },
  {
   "cell_type": "code",
   "execution_count": 20,
   "metadata": {
    "collapsed": true
   },
   "outputs": [],
   "source": [
    "df = df[df['urban'] > .5]\n",
    "df = df.join(pd.get_dummies(df['urban'],prefix='area'))\n",
    "df = df.rename(index=str, columns={\"area_1.0\": \"area_rural\", \n",
    "                              \"area_2.0\": \"area_suburban\",\n",
    "                              \"area_3.0\": \"area_urban\"})"
   ]
  },
  {
   "cell_type": "code",
   "execution_count": 21,
   "metadata": {
    "collapsed": true
   },
   "outputs": [],
   "source": [
    "df = df.join(pd.get_dummies(df['hand'],prefix='hand'))\n",
    "df = df.rename(index=str, columns={\"hand_1.0\": \"hand_right\", \n",
    "                              \"hand_2.0\": \"hand_left\",\n",
    "                              \"hand_3.0\": \"hand_both\"})"
   ]
  },
  {
   "cell_type": "code",
   "execution_count": 22,
   "metadata": {
    "collapsed": true
   },
   "outputs": [],
   "source": [
    "df = df[df['religion'] > .5]\n",
    "df = df.join(pd.get_dummies(df['religion'],prefix='religion'))\n",
    "df = df.rename(index=str, columns={\"religion_1.0\": \"religion_agnostic\", \n",
    "                              \"religion_2.0\": \"religion_atheist\",\n",
    "                              \"religion_3.0\": \"religion_buddhist\",\n",
    "                              \"religion_4.0\": \"religion_catholic\",\n",
    "                              \"religion_5.0\": \"religion_mormon\",\n",
    "                              \"religion_6.0\": \"religion_protestant\",\n",
    "                              \"religion_7.0\": \"religion_christianother\",\n",
    "                              \"religion_8.0\": \"religion_hindu\",\n",
    "                              \"religion_9.0\": \"religion_jewis\",\n",
    "                              \"religion_10.0\": \"religion_muslim\",\n",
    "                              \"religion_11.0\": \"religion_sikh\",\n",
    "                              \"religion_12.0\": \"religion_other\"})"
   ]
  },
  {
   "cell_type": "code",
   "execution_count": 23,
   "metadata": {
    "collapsed": true
   },
   "outputs": [],
   "source": [
    "df = df[df['orientation'] > .5]\n",
    "df = df.join(pd.get_dummies(df['orientation'],prefix='orientation'))\n",
    "df = df.rename(index=str, columns={\"orientation_1.0\": \"orientation_heterosexual\", \n",
    "                              \"orientation_2.0\": \"orientation_bisexual\",\n",
    "                              \"orientation_3.0\": \"orientation_homosexual\",\n",
    "                              \"orientation_4.0\": \"orientation_asexual\",\n",
    "                              \"orientation_5.0\": \"orientation_other\"})"
   ]
  },
  {
   "cell_type": "code",
   "execution_count": 24,
   "metadata": {
    "collapsed": true
   },
   "outputs": [],
   "source": [
    "df = df[df['race'] > .5]\n",
    "df = df.join(pd.get_dummies(df['race'],prefix='race'))\n",
    "df = df.rename(index=str, columns={\"race_1.0\": \"race_asian\", \n",
    "                              \"race_2.0\": \"race_arab\",\n",
    "                              \"race_3.0\": \"race_black\",\n",
    "                              \"race_4.0\": \"race_white\",\n",
    "                              \"race_5.0\": \"race_other\"})"
   ]
  },
  {
   "cell_type": "code",
   "execution_count": 25,
   "metadata": {
    "collapsed": true
   },
   "outputs": [],
   "source": [
    "df = df[df['married'] > .5]\n",
    "df = df.join(pd.get_dummies(df['married'],prefix='married'))\n",
    "df = df.rename(index=str, columns={\"married_1.0\": \"married_never\", \n",
    "                              \"married_2.0\": \"married_currently\",\n",
    "                              \"married_3.0\": \"married_previously\"})"
   ]
  },
  {
   "cell_type": "code",
   "execution_count": 26,
   "metadata": {
    "collapsed": true
   },
   "outputs": [],
   "source": [
    "df['liar'] = (df['VCL6'] == 1.0) | (df['VCL9'] == 1.0) | (df['VCL12'] == 1.0)"
   ]
  },
  {
   "cell_type": "code",
   "execution_count": 27,
   "metadata": {
    "collapsed": true
   },
   "outputs": [],
   "source": [
    "df = df[df['gender'] < 3]\n",
    "df.loc[df['gender'] == 2,'gender'] = 0.0\n",
    "df.loc[df['engnat'] == 2,'engnat'] = 0.0\n",
    "df.loc[df['voted'] == 2,'voted'] = 0.0"
   ]
  },
  {
   "cell_type": "code",
   "execution_count": 28,
   "metadata": {},
   "outputs": [
    {
     "data": {
      "text/plain": [
       "3065"
      ]
     },
     "execution_count": 28,
     "metadata": {},
     "output_type": "execute_result"
    }
   ],
   "source": [
    "len(df)"
   ]
  },
  {
   "cell_type": "code",
   "execution_count": 29,
   "metadata": {
    "collapsed": true
   },
   "outputs": [],
   "source": [
    "df = df.drop(['operatingsystem','browser','E1','E2','E3','E4','E5','E6','E7','E8','E9','E10',\\\n",
    "              'N1','N2','N3','N4','N5','N6','N7','N8','N9','N10','A1','A2','A3','A4','A5',\\\n",
    "              'A6','A7','A8','A9','A10','C1','C2','C3','C4','C5','C6','C7','C8','C9','C10',\\\n",
    "              'O1','O2','O3','O4','O5','O6','O7','O8','O9','O10','GS1','GS2','GS3','GS4','GS5',\\\n",
    "              'GS6','GS7','GS8','GS9','GS10','GS11','GS12','country','VCL1','VCL2','VCL3','VCL4',\\\n",
    "              'VCL5','VCL6','VCL7','VCL8','VCL9','VCL10','VCL11','VCL12','VCL13','VCL14',\\\n",
    "              'VCL15','VCL16','race','orientation','religion','hand','urban','married'],axis=1)"
   ]
  },
  {
   "cell_type": "code",
   "execution_count": 30,
   "metadata": {},
   "outputs": [
    {
     "data": {
      "text/html": [
       "<div>\n",
       "<style>\n",
       "    .dataframe thead tr:only-child th {\n",
       "        text-align: right;\n",
       "    }\n",
       "\n",
       "    .dataframe thead th {\n",
       "        text-align: left;\n",
       "    }\n",
       "\n",
       "    .dataframe tbody tr th {\n",
       "        vertical-align: top;\n",
       "    }\n",
       "</style>\n",
       "<table border=\"1\" class=\"dataframe\">\n",
       "  <thead>\n",
       "    <tr style=\"text-align: right;\">\n",
       "      <th></th>\n",
       "      <th>surveyelapse</th>\n",
       "      <th>education</th>\n",
       "      <th>gender</th>\n",
       "      <th>engnat</th>\n",
       "      <th>age</th>\n",
       "      <th>voted</th>\n",
       "      <th>familysize</th>\n",
       "      <th>screenw</th>\n",
       "      <th>screenh</th>\n",
       "      <th>introelapse</th>\n",
       "      <th>...</th>\n",
       "      <th>orientation_other</th>\n",
       "      <th>race_asian</th>\n",
       "      <th>race_arab</th>\n",
       "      <th>race_black</th>\n",
       "      <th>race_white</th>\n",
       "      <th>race_other</th>\n",
       "      <th>married_never</th>\n",
       "      <th>married_currently</th>\n",
       "      <th>married_previously</th>\n",
       "      <th>liar</th>\n",
       "    </tr>\n",
       "  </thead>\n",
       "  <tbody>\n",
       "    <tr>\n",
       "      <th>1527</th>\n",
       "      <td>141.0</td>\n",
       "      <td>2.0</td>\n",
       "      <td>0.0</td>\n",
       "      <td>1.0</td>\n",
       "      <td>20.0</td>\n",
       "      <td>1.0</td>\n",
       "      <td>2.0</td>\n",
       "      <td>1680.0</td>\n",
       "      <td>1050.0</td>\n",
       "      <td>162687.0</td>\n",
       "      <td>...</td>\n",
       "      <td>0</td>\n",
       "      <td>0</td>\n",
       "      <td>0</td>\n",
       "      <td>0</td>\n",
       "      <td>1</td>\n",
       "      <td>0</td>\n",
       "      <td>1</td>\n",
       "      <td>0</td>\n",
       "      <td>0</td>\n",
       "      <td>False</td>\n",
       "    </tr>\n",
       "    <tr>\n",
       "      <th>500</th>\n",
       "      <td>151.0</td>\n",
       "      <td>3.0</td>\n",
       "      <td>0.0</td>\n",
       "      <td>1.0</td>\n",
       "      <td>33.0</td>\n",
       "      <td>0.0</td>\n",
       "      <td>4.0</td>\n",
       "      <td>1600.0</td>\n",
       "      <td>900.0</td>\n",
       "      <td>8.0</td>\n",
       "      <td>...</td>\n",
       "      <td>0</td>\n",
       "      <td>1</td>\n",
       "      <td>0</td>\n",
       "      <td>0</td>\n",
       "      <td>0</td>\n",
       "      <td>0</td>\n",
       "      <td>1</td>\n",
       "      <td>0</td>\n",
       "      <td>0</td>\n",
       "      <td>False</td>\n",
       "    </tr>\n",
       "    <tr>\n",
       "      <th>2074</th>\n",
       "      <td>332.0</td>\n",
       "      <td>2.0</td>\n",
       "      <td>0.0</td>\n",
       "      <td>1.0</td>\n",
       "      <td>18.0</td>\n",
       "      <td>0.0</td>\n",
       "      <td>3.0</td>\n",
       "      <td>1455.0</td>\n",
       "      <td>818.0</td>\n",
       "      <td>8.0</td>\n",
       "      <td>...</td>\n",
       "      <td>0</td>\n",
       "      <td>0</td>\n",
       "      <td>0</td>\n",
       "      <td>1</td>\n",
       "      <td>0</td>\n",
       "      <td>0</td>\n",
       "      <td>1</td>\n",
       "      <td>0</td>\n",
       "      <td>0</td>\n",
       "      <td>False</td>\n",
       "    </tr>\n",
       "    <tr>\n",
       "      <th>2279</th>\n",
       "      <td>221.0</td>\n",
       "      <td>4.0</td>\n",
       "      <td>0.0</td>\n",
       "      <td>0.0</td>\n",
       "      <td>34.0</td>\n",
       "      <td>1.0</td>\n",
       "      <td>1.0</td>\n",
       "      <td>1366.0</td>\n",
       "      <td>768.0</td>\n",
       "      <td>13.0</td>\n",
       "      <td>...</td>\n",
       "      <td>0</td>\n",
       "      <td>1</td>\n",
       "      <td>0</td>\n",
       "      <td>0</td>\n",
       "      <td>0</td>\n",
       "      <td>0</td>\n",
       "      <td>1</td>\n",
       "      <td>0</td>\n",
       "      <td>0</td>\n",
       "      <td>False</td>\n",
       "    </tr>\n",
       "    <tr>\n",
       "      <th>661</th>\n",
       "      <td>236.0</td>\n",
       "      <td>2.0</td>\n",
       "      <td>1.0</td>\n",
       "      <td>0.0</td>\n",
       "      <td>50.0</td>\n",
       "      <td>1.0</td>\n",
       "      <td>4.0</td>\n",
       "      <td>1600.0</td>\n",
       "      <td>900.0</td>\n",
       "      <td>93.0</td>\n",
       "      <td>...</td>\n",
       "      <td>0</td>\n",
       "      <td>1</td>\n",
       "      <td>0</td>\n",
       "      <td>0</td>\n",
       "      <td>0</td>\n",
       "      <td>0</td>\n",
       "      <td>0</td>\n",
       "      <td>0</td>\n",
       "      <td>1</td>\n",
       "      <td>False</td>\n",
       "    </tr>\n",
       "  </tbody>\n",
       "</table>\n",
       "<p>5 rows × 167 columns</p>\n",
       "</div>"
      ],
      "text/plain": [
       "      surveyelapse  education  gender  engnat   age  voted  familysize  \\\n",
       "1527         141.0        2.0     0.0     1.0  20.0    1.0         2.0   \n",
       "500          151.0        3.0     0.0     1.0  33.0    0.0         4.0   \n",
       "2074         332.0        2.0     0.0     1.0  18.0    0.0         3.0   \n",
       "2279         221.0        4.0     0.0     0.0  34.0    1.0         1.0   \n",
       "661          236.0        2.0     1.0     0.0  50.0    1.0         4.0   \n",
       "\n",
       "      screenw  screenh  introelapse  ...    orientation_other  race_asian  \\\n",
       "1527   1680.0   1050.0     162687.0  ...                    0           0   \n",
       "500    1600.0    900.0          8.0  ...                    0           1   \n",
       "2074   1455.0    818.0          8.0  ...                    0           0   \n",
       "2279   1366.0    768.0         13.0  ...                    0           1   \n",
       "661    1600.0    900.0         93.0  ...                    0           1   \n",
       "\n",
       "      race_arab  race_black  race_white  race_other  married_never  \\\n",
       "1527          0           0           1           0              1   \n",
       "500           0           0           0           0              1   \n",
       "2074          0           1           0           0              1   \n",
       "2279          0           0           0           0              1   \n",
       "661           0           0           0           0              0   \n",
       "\n",
       "      married_currently  married_previously   liar  \n",
       "1527                  0                   0  False  \n",
       "500                   0                   0  False  \n",
       "2074                  0                   0  False  \n",
       "2279                  0                   0  False  \n",
       "661                   0                   1  False  \n",
       "\n",
       "[5 rows x 167 columns]"
      ]
     },
     "execution_count": 30,
     "metadata": {},
     "output_type": "execute_result"
    }
   ],
   "source": [
    "df.head()"
   ]
  },
  {
   "cell_type": "code",
   "execution_count": 31,
   "metadata": {
    "scrolled": false
   },
   "outputs": [
    {
     "data": {
      "text/plain": [
       "<matplotlib.axes._subplots.AxesSubplot at 0x1185f9090>"
      ]
     },
     "execution_count": 31,
     "metadata": {},
     "output_type": "execute_result"
    },
    {
     "data": {
      "image/png": "[encoded data removed]",
      "text/plain": [
       "<matplotlib.figure.Figure at 0x11848ac50>"
      ]
     },
     "metadata": {},
     "output_type": "display_data"
    }
   ],
   "source": [
    "from matplotlib import pyplot\n",
    "\n",
    "dims = (20, 20)\n",
    "fig, ax = pyplot.subplots(figsize=dims)\n",
    "\n",
    "cols = [c for c in df.columns if c.lower()[:8] != 'country_']\n",
    "dfCorr=df[cols]\n",
    "\n",
    "corr = dfCorr.corr()\n",
    "sns.heatmap(ax=ax,data=corr)"
   ]
  },
  {
   "cell_type": "code",
   "execution_count": null,
   "metadata": {
    "collapsed": true
   },
   "outputs": [],
   "source": []
  }
 ],
 "metadata": {
  "kernelspec": {
   "display_name": "Python 2",
   "language": "python",
   "name": "python2"
  },
  "language_info": {
   "codemirror_mode": {
    "name": "ipython",
    "version": 2
   },
   "file_extension": ".py",
   "mimetype": "text/x-python",
   "name": "python",
   "nbconvert_exporter": "python",
   "pygments_lexer": "ipython2",
   "version": "2.7.13"
  }
 },
 "nbformat": 4,
 "nbformat_minor": 2
}
