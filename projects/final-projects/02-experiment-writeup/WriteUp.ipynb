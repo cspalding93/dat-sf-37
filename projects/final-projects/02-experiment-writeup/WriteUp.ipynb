{
 "cells": [
  {
   "cell_type": "markdown",
   "metadata": {},
   "source": [
    "# Project Design Writeup and Approval\n",
    "\n",
    "### Project Problem and Hypothesis\n",
    "\n",
    "* What's the project about? What problem are you solving?\n",
    "  * This project is to verify Angela Duckworth's study on \"Grit\" and attempt to expand on it with other features presant in their dataset.\n",
    "  * On average, individuals who are gritty are more self-controlled, but the correlation between these two traits is not perfect: Some individuals are paragons of grit but not self-control, and some exceptionally well-regulated individuals are not especially gritty (Duckworth & Gross, 2014)\n",
    "* Where does this seem to reside as a machine learning problem? Are you predicting some continuous number, or predicting a binary value?\n",
    "  * This dataset has many features and I have the opportunity to try different hypothesis.  My main focus will be to predict a \"grit\" score from personality traits and demographic data.  This will be a ordinal label being between 1 and 5.\n",
    "* What kind of impact do you think it could have?\n",
    "  * This study was done to measure grit and find how gritty people behave.  The impact will be better knowledge of big 5 personality traits across demographics and predictors of grittiness.\n",
    "* What do you think will have the most impact in predicting the value you are interested in solving for?\n",
    "  * Grit seems to come naturally to some, but if you find you grit score is low, you can address this and take steps to get things done.\n",
    "\n",
    "### Datasets\n",
    "\n",
    "* Description of data set available, at the field level (see table)\n",
    "  * The following are the fields in the dataset:  country\tsurveyelapse\tgritscore\tvalidation/lie\teducation\turban\tgender\tengnat\tage\thand\treligion\torientation\trace\tvoted\tmarried\tfamilysize\tBig5\toperatingsystem\tbrowser\tscreenw\tscreenh\tintroelapse\ttestelapse\n",
    "* Domain knowledge\n",
    "  * Although I'm not a psychologist, I find the science of behavior and mind fascinating.  My interest coupled with data science skills should allow for some general psychology validation.\n",
    "\n",
    "### What experience do you already have around this area?\n",
    "* Does it relate or help inform the project in any way?\n",
    "  * I have a personal interest in the field.  I will be looking at differences between men/women, races, orientation, etc. and finding how they relate to grit scores and big 5 personality traits.\n",
    "* What other research efforts exist?\n",
    "  * This is based on the research effor the data came from:  http://angeladuckworth.com/\n",
    "* Include a benchmark, how other models have performed, even if you are unsure what the metric means.\n",
    "  * http://angeladuckworth.com/grit-scale/\n",
    "  * This is a test to calculate a grit score, but we might be able to predict it without a test.\n",
    "\n",
    "### Project Concerns\n",
    "\n",
    "* What questions do you have about your project? What are you not sure you quite yet understand? (The more honest you are about this, the easier your instructors can help).\n",
    "  * I need to do some formatting of the columns.  Grit, validation, and big 5 only have the answers to the questions, not the final score.  I'll need to calculate that.  \n",
    "* What are the assumptions and caveats to the problem?\n",
    "  * There are differences between demographics and grit/big 5 personality traits.\n",
    "  * Grit is predictable from demographic features and big 5 personality traits.\n",
    "* What data do you not have access to but wish you had?\n",
    "  * I wish IQ was added to this dataset, as well as political leaning and success.\n",
    "* What is already implied about the observations in your data set? For example, if your primary data set is twitter data, it may not be representative of the whole sample (say, predicting who would win an election)\n",
    "  * Surveys do not accuratly observe people.\n",
    "  * The grit questions have some flaws (takers would rather talk about the answer rather than be put in a box).\n",
    "  * The data contains only a certain type of persons (those willing to participate in this study and possibly those interested in finding their grit score).\n",
    "* What are the risks to the project?\n",
    "  * I may find that the correlations are weak and grit is hard to predict with the data I have.\n",
    "* What's the cost of your model being wrong? (What's the benefit of your model being right?)\n",
    "  * Someone may act diferently depending on what is predicted of them.  Having a low grit score might make someone work harder to prove it wrong or be discouraging.\n",
    "* Is any of the data incorrect? Could it be incorrect?\n",
    "  * There is some validation data.  A few columns ask if the user is certain they know the definition of a word and some of the words are made up.  This will be fun to incorporate.  I could add a \"liar\" column or use it to invalidate the row.\n",
    "\n",
    "### Outcomes\n",
    "\n",
    "* What do you expect the output to look like?\n",
    "  * I hope to have a model to describe grittiness as well as visualizations and statistics about big 5 personality traits as well as grit.\n",
    "* What does your target audience expect the output to look like?\n",
    "  * Someone with an interest in psychology might more appreciate a statistical analysis (descriptive) rather than a prediction, but I think both can be valuable.  \n",
    "* What gain do you expect from your most important feature on its own?\n",
    "  * I expect concientousness to be most of the grit prediction, and I expect gender to show a great difference in concientiousness and agreeableness.\n",
    "* How complicated does your model have to be?\n",
    "  * For a descriptive analysis, a decision tree or linear regression can produce a simple model to explain the data.  To accurately predict grit, it may be worth it to have a more complex model.\n",
    "* How successful does your project have to be in order to be considered a \"success\"?\n",
    "  * I think I will find a lot of good predictors and correlations between the demographic data.  For every interesting correlation I find, I'll consider it an incremental success.\n",
    "* What will you do if the project is a bust (this happens! but it shouldn't here)?\n",
    "  * It won't be!  But if it is, I can do some simple big 5 analysis or studying of the features according to each other."
   ]
  },
  {
   "cell_type": "code",
   "execution_count": null,
   "metadata": {
    "collapsed": true
   },
   "outputs": [],
   "source": []
  }
 ],
 "metadata": {
  "kernelspec": {
   "display_name": "Python 2",
   "language": "python",
   "name": "python2"
  },
  "language_info": {
   "codemirror_mode": {
    "name": "ipython",
    "version": 2
   },
   "file_extension": ".py",
   "mimetype": "text/x-python",
   "name": "python",
   "nbconvert_exporter": "python",
   "pygments_lexer": "ipython2",
   "version": "2.7.13"
  }
 },
 "nbformat": 4,
 "nbformat_minor": 2
}
