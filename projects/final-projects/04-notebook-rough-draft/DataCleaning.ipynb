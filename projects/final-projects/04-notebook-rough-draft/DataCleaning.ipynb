{
 "cells": [
  {
   "cell_type": "markdown",
   "metadata": {},
   "source": [
    "# Data Cleansing for Angela Duckworth's \"Grit\" Dataset"
   ]
  },
  {
   "cell_type": "code",
   "execution_count": 51,
   "metadata": {
    "collapsed": true
   },
   "outputs": [],
   "source": [
    "import pandas as pd\n",
    "import seaborn as sns\n",
    "import numpy as np\n",
    "from matplotlib import pyplot as plt\n",
    "%matplotlib inline"
   ]
  },
  {
   "cell_type": "markdown",
   "metadata": {},
   "source": [
    "## Load the data and remove missing values"
   ]
  },
  {
   "cell_type": "code",
   "execution_count": 52,
   "metadata": {
    "collapsed": true
   },
   "outputs": [],
   "source": [
    "df = pd.read_csv(\"../duckworth-grit-scale-data/csvData.csv\")"
   ]
  },
  {
   "cell_type": "code",
   "execution_count": 53,
   "metadata": {},
   "outputs": [
    {
     "data": {
      "text/html": [
       "<div>\n",
       "<style>\n",
       "    .dataframe thead tr:only-child th {\n",
       "        text-align: right;\n",
       "    }\n",
       "\n",
       "    .dataframe thead th {\n",
       "        text-align: left;\n",
       "    }\n",
       "\n",
       "    .dataframe tbody tr th {\n",
       "        vertical-align: top;\n",
       "    }\n",
       "</style>\n",
       "<table border=\"1\" class=\"dataframe\">\n",
       "  <thead>\n",
       "    <tr style=\"text-align: right;\">\n",
       "      <th></th>\n",
       "      <th>country</th>\n",
       "      <th>surveyelapse</th>\n",
       "      <th>GS1</th>\n",
       "      <th>GS2</th>\n",
       "      <th>GS3</th>\n",
       "      <th>GS4</th>\n",
       "      <th>GS5</th>\n",
       "      <th>GS6</th>\n",
       "      <th>GS7</th>\n",
       "      <th>GS8</th>\n",
       "      <th>...</th>\n",
       "      <th>O7</th>\n",
       "      <th>O8</th>\n",
       "      <th>O9</th>\n",
       "      <th>O10</th>\n",
       "      <th>operatingsystem</th>\n",
       "      <th>browser</th>\n",
       "      <th>screenw</th>\n",
       "      <th>screenh</th>\n",
       "      <th>introelapse</th>\n",
       "      <th>testelapse</th>\n",
       "    </tr>\n",
       "  </thead>\n",
       "  <tbody>\n",
       "    <tr>\n",
       "      <th>0</th>\n",
       "      <td>RO</td>\n",
       "      <td>174.0</td>\n",
       "      <td>1.0</td>\n",
       "      <td>1.0</td>\n",
       "      <td>3.0</td>\n",
       "      <td>3.0</td>\n",
       "      <td>3.0</td>\n",
       "      <td>2.0</td>\n",
       "      <td>3.0</td>\n",
       "      <td>1.0</td>\n",
       "      <td>...</td>\n",
       "      <td>5.0</td>\n",
       "      <td>4.0</td>\n",
       "      <td>5.0</td>\n",
       "      <td>4.0</td>\n",
       "      <td>Windows</td>\n",
       "      <td>Chrome</td>\n",
       "      <td>1366.0</td>\n",
       "      <td>768.0</td>\n",
       "      <td>69590.0</td>\n",
       "      <td>307.0</td>\n",
       "    </tr>\n",
       "    <tr>\n",
       "      <th>1</th>\n",
       "      <td>US</td>\n",
       "      <td>120.0</td>\n",
       "      <td>2.0</td>\n",
       "      <td>2.0</td>\n",
       "      <td>3.0</td>\n",
       "      <td>3.0</td>\n",
       "      <td>2.0</td>\n",
       "      <td>1.0</td>\n",
       "      <td>3.0</td>\n",
       "      <td>3.0</td>\n",
       "      <td>...</td>\n",
       "      <td>4.0</td>\n",
       "      <td>3.0</td>\n",
       "      <td>4.0</td>\n",
       "      <td>5.0</td>\n",
       "      <td>Macintosh</td>\n",
       "      <td>Chrome</td>\n",
       "      <td>1280.0</td>\n",
       "      <td>800.0</td>\n",
       "      <td>33657.0</td>\n",
       "      <td>134.0</td>\n",
       "    </tr>\n",
       "    <tr>\n",
       "      <th>2</th>\n",
       "      <td>US</td>\n",
       "      <td>99.0</td>\n",
       "      <td>3.0</td>\n",
       "      <td>3.0</td>\n",
       "      <td>3.0</td>\n",
       "      <td>3.0</td>\n",
       "      <td>4.0</td>\n",
       "      <td>3.0</td>\n",
       "      <td>4.0</td>\n",
       "      <td>4.0</td>\n",
       "      <td>...</td>\n",
       "      <td>5.0</td>\n",
       "      <td>5.0</td>\n",
       "      <td>4.0</td>\n",
       "      <td>4.0</td>\n",
       "      <td>Windows</td>\n",
       "      <td>Firefox</td>\n",
       "      <td>1920.0</td>\n",
       "      <td>1080.0</td>\n",
       "      <td>95550.0</td>\n",
       "      <td>138.0</td>\n",
       "    </tr>\n",
       "    <tr>\n",
       "      <th>3</th>\n",
       "      <td>KE</td>\n",
       "      <td>5098.0</td>\n",
       "      <td>1.0</td>\n",
       "      <td>3.0</td>\n",
       "      <td>4.0</td>\n",
       "      <td>2.0</td>\n",
       "      <td>4.0</td>\n",
       "      <td>1.0</td>\n",
       "      <td>5.0</td>\n",
       "      <td>4.0</td>\n",
       "      <td>...</td>\n",
       "      <td>4.0</td>\n",
       "      <td>2.0</td>\n",
       "      <td>5.0</td>\n",
       "      <td>4.0</td>\n",
       "      <td>Windows</td>\n",
       "      <td>Chrome</td>\n",
       "      <td>1600.0</td>\n",
       "      <td>900.0</td>\n",
       "      <td>4.0</td>\n",
       "      <td>4440.0</td>\n",
       "    </tr>\n",
       "    <tr>\n",
       "      <th>4</th>\n",
       "      <td>JP</td>\n",
       "      <td>340.0</td>\n",
       "      <td>1.0</td>\n",
       "      <td>2.0</td>\n",
       "      <td>3.0</td>\n",
       "      <td>3.0</td>\n",
       "      <td>2.0</td>\n",
       "      <td>2.0</td>\n",
       "      <td>2.0</td>\n",
       "      <td>4.0</td>\n",
       "      <td>...</td>\n",
       "      <td>4.0</td>\n",
       "      <td>1.0</td>\n",
       "      <td>3.0</td>\n",
       "      <td>2.0</td>\n",
       "      <td>Windows</td>\n",
       "      <td>Firefox</td>\n",
       "      <td>1920.0</td>\n",
       "      <td>1080.0</td>\n",
       "      <td>3.0</td>\n",
       "      <td>337.0</td>\n",
       "    </tr>\n",
       "  </tbody>\n",
       "</table>\n",
       "<p>5 rows × 98 columns</p>\n",
       "</div>"
      ],
      "text/plain": [
       "  country  surveyelapse  GS1  GS2  GS3  GS4  GS5  GS6  GS7  GS8     ...      \\\n",
       "0      RO         174.0  1.0  1.0  3.0  3.0  3.0  2.0  3.0  1.0     ...       \n",
       "1      US         120.0  2.0  2.0  3.0  3.0  2.0  1.0  3.0  3.0     ...       \n",
       "2      US          99.0  3.0  3.0  3.0  3.0  4.0  3.0  4.0  4.0     ...       \n",
       "3      KE        5098.0  1.0  3.0  4.0  2.0  4.0  1.0  5.0  4.0     ...       \n",
       "4      JP         340.0  1.0  2.0  3.0  3.0  2.0  2.0  2.0  4.0     ...       \n",
       "\n",
       "    O7   O8   O9  O10  operatingsystem  browser  screenw  screenh  \\\n",
       "0  5.0  4.0  5.0  4.0          Windows   Chrome   1366.0    768.0   \n",
       "1  4.0  3.0  4.0  5.0        Macintosh   Chrome   1280.0    800.0   \n",
       "2  5.0  5.0  4.0  4.0          Windows  Firefox   1920.0   1080.0   \n",
       "3  4.0  2.0  5.0  4.0          Windows   Chrome   1600.0    900.0   \n",
       "4  4.0  1.0  3.0  2.0          Windows  Firefox   1920.0   1080.0   \n",
       "\n",
       "   introelapse  testelapse  \n",
       "0      69590.0       307.0  \n",
       "1      33657.0       134.0  \n",
       "2      95550.0       138.0  \n",
       "3          4.0      4440.0  \n",
       "4          3.0       337.0  \n",
       "\n",
       "[5 rows x 98 columns]"
      ]
     },
     "execution_count": 53,
     "metadata": {},
     "output_type": "execute_result"
    }
   ],
   "source": [
    "df.head()"
   ]
  },
  {
   "cell_type": "code",
   "execution_count": 54,
   "metadata": {
    "collapsed": true
   },
   "outputs": [],
   "source": [
    "from random import shuffle\n",
    "#n = len(full) #number of rows in your dataset\n",
    "#indices = range(n)\n",
    "#shuffle(indices)\n",
    "#print \"train indices:\", indices[:3300]\n",
    "#print \"test indices:\", indices[3300:]\n",
    "\n",
    "#df = full.loc[indices[:3300]]\n",
    "#df = full"
   ]
  },
  {
   "cell_type": "code",
   "execution_count": 55,
   "metadata": {
    "collapsed": true
   },
   "outputs": [],
   "source": [
    "df = df.dropna()"
   ]
  },
  {
   "cell_type": "code",
   "execution_count": 56,
   "metadata": {},
   "outputs": [
    {
     "data": {
      "text/plain": [
       "4226"
      ]
     },
     "execution_count": 56,
     "metadata": {},
     "output_type": "execute_result"
    }
   ],
   "source": [
    "len(df)"
   ]
  },
  {
   "cell_type": "markdown",
   "metadata": {},
   "source": [
    "## Translate Grit and Big Five personality triats "
   ]
  },
  {
   "cell_type": "code",
   "execution_count": 57,
   "metadata": {},
   "outputs": [],
   "source": [
    "df['grit'] = (df['GS2'] + df['GS3'] + df['GS5'] + df['GS7'] + df['GS8'] + df['GS11'] +\n",
    "             (6-df['GS1']) + (6-df['GS4']) + (6-df['GS6']) + (6-df['GS9']) + (6-df['GS10']) + (6-df['GS12']))/12"
   ]
  },
  {
   "cell_type": "code",
   "execution_count": 58,
   "metadata": {},
   "outputs": [
    {
     "data": {
      "text/plain": [
       "0    3.000000\n",
       "1    3.416667\n",
       "2    3.250000\n",
       "3    4.333333\n",
       "4    3.083333\n",
       "Name: grit, dtype: float64"
      ]
     },
     "execution_count": 58,
     "metadata": {},
     "output_type": "execute_result"
    }
   ],
   "source": [
    "df['grit'].head()"
   ]
  },
  {
   "cell_type": "code",
   "execution_count": 59,
   "metadata": {},
   "outputs": [],
   "source": [
    "df['extroversion'] = df['E1'] + (6-df['E2']) + df['E3'] + (6-df['E4']) + df['E5'] + (6-df['E6']) + \\\n",
    "                    df['E7'] + (6-df['E8']) + df['E9'] + (6-df['E10'])"
   ]
  },
  {
   "cell_type": "code",
   "execution_count": 60,
   "metadata": {},
   "outputs": [
    {
     "data": {
      "text/plain": [
       "0    31.0\n",
       "1    40.0\n",
       "2    18.0\n",
       "3    19.0\n",
       "4    12.0\n",
       "Name: extroversion, dtype: float64"
      ]
     },
     "execution_count": 60,
     "metadata": {},
     "output_type": "execute_result"
    }
   ],
   "source": [
    "df['extroversion'].head()"
   ]
  },
  {
   "cell_type": "code",
   "execution_count": 61,
   "metadata": {},
   "outputs": [],
   "source": [
    "df['neuroticism'] = df['N1'] + (6-df['N2']) + df['N3'] + (6-df['N4']) + df['N5'] + df['N6'] + \\\n",
    "                    df['N7'] + df['N8'] + df['N9'] + df['N10']"
   ]
  },
  {
   "cell_type": "code",
   "execution_count": 62,
   "metadata": {},
   "outputs": [],
   "source": [
    "df['agreeableness'] = (6-df['A1']) + df['A2'] + (6-df['A3']) + df['A4'] + (6-df['A5']) + df['A6'] + \\\n",
    "                      (6-df['A7']) + df['A8'] + df['A9'] + df['A10']"
   ]
  },
  {
   "cell_type": "code",
   "execution_count": 63,
   "metadata": {},
   "outputs": [],
   "source": [
    "df['conscientiousness'] = df['C1'] + (6-df['C2']) + df['C3'] + (6-df['C4']) + df['C5'] + (6-df['C6']) + \\\n",
    "                          df['C7'] + (6-df['C8']) + df['C9'] + df['C10']"
   ]
  },
  {
   "cell_type": "code",
   "execution_count": 64,
   "metadata": {},
   "outputs": [],
   "source": [
    "df['openness'] = df['O1'] + (6-df['O2']) + df['O3'] + (6-df['O4']) + df['O5'] + (6-df['O6']) + \\\n",
    "                 df['O7'] + (6-df['O8']) + df['O9'] + df['O10']#5?10?"
   ]
  },
  {
   "cell_type": "markdown",
   "metadata": {},
   "source": [
    "## Create dummy variables and update their names"
   ]
  },
  {
   "cell_type": "code",
   "execution_count": 65,
   "metadata": {
    "collapsed": true
   },
   "outputs": [],
   "source": [
    "df = df.join(pd.get_dummies(df['operatingsystem'],prefix='os'))"
   ]
  },
  {
   "cell_type": "code",
   "execution_count": 66,
   "metadata": {
    "collapsed": true
   },
   "outputs": [],
   "source": [
    "df = df.join(pd.get_dummies(df['browser'],prefix='browser'))"
   ]
  },
  {
   "cell_type": "code",
   "execution_count": 67,
   "metadata": {
    "collapsed": true
   },
   "outputs": [],
   "source": [
    "df = df.join(pd.get_dummies(df['country'],prefix='country'))"
   ]
  },
  {
   "cell_type": "code",
   "execution_count": 68,
   "metadata": {
    "collapsed": true
   },
   "outputs": [],
   "source": [
    "df = df[df['urban'] > .5]\n",
    "df = df.join(pd.get_dummies(df['urban'],prefix='area'))\n",
    "df = df.rename(index=str, columns={\"area_1.0\": \"area_rural\", \n",
    "                              \"area_2.0\": \"area_suburban\",\n",
    "                              \"area_3.0\": \"area_urban\"})"
   ]
  },
  {
   "cell_type": "code",
   "execution_count": 69,
   "metadata": {
    "collapsed": true
   },
   "outputs": [],
   "source": [
    "df = df.join(pd.get_dummies(df['hand'],prefix='hand'))\n",
    "df = df.rename(index=str, columns={\"hand_1.0\": \"hand_right\", \n",
    "                              \"hand_2.0\": \"hand_left\",\n",
    "                              \"hand_3.0\": \"hand_both\"})"
   ]
  },
  {
   "cell_type": "code",
   "execution_count": 70,
   "metadata": {
    "collapsed": true
   },
   "outputs": [],
   "source": [
    "df = df[df['religion'] > .5]\n",
    "df = df.join(pd.get_dummies(df['religion'],prefix='religion'))\n",
    "df = df.rename(index=str, columns={\"religion_1.0\": \"religion_agnostic\", \n",
    "                              \"religion_2.0\": \"religion_atheist\",\n",
    "                              \"religion_3.0\": \"religion_buddhist\",\n",
    "                              \"religion_4.0\": \"religion_catholic\",\n",
    "                              \"religion_5.0\": \"religion_mormon\",\n",
    "                              \"religion_6.0\": \"religion_protestant\",\n",
    "                              \"religion_7.0\": \"religion_christianother\",\n",
    "                              \"religion_8.0\": \"religion_hindu\",\n",
    "                              \"religion_9.0\": \"religion_jewis\",\n",
    "                              \"religion_10.0\": \"religion_muslim\",\n",
    "                              \"religion_11.0\": \"religion_sikh\",\n",
    "                              \"religion_12.0\": \"religion_other\"})"
   ]
  },
  {
   "cell_type": "code",
   "execution_count": 71,
   "metadata": {
    "collapsed": true
   },
   "outputs": [],
   "source": [
    "df = df[df['orientation'] > .5]\n",
    "df = df.join(pd.get_dummies(df['orientation'],prefix='orientation'))\n",
    "df = df.rename(index=str, columns={\"orientation_1.0\": \"orientation_heterosexual\", \n",
    "                              \"orientation_2.0\": \"orientation_bisexual\",\n",
    "                              \"orientation_3.0\": \"orientation_homosexual\",\n",
    "                              \"orientation_4.0\": \"orientation_asexual\",\n",
    "                              \"orientation_5.0\": \"orientation_other\"})"
   ]
  },
  {
   "cell_type": "code",
   "execution_count": 72,
   "metadata": {
    "collapsed": true
   },
   "outputs": [],
   "source": [
    "df = df[df['race'] > .5]\n",
    "df = df.join(pd.get_dummies(df['race'],prefix='race'))\n",
    "df = df.rename(index=str, columns={\"race_1.0\": \"race_asian\", \n",
    "                              \"race_2.0\": \"race_arab\",\n",
    "                              \"race_3.0\": \"race_black\",\n",
    "                              \"race_4.0\": \"race_white\",\n",
    "                              \"race_5.0\": \"race_other\"})"
   ]
  },
  {
   "cell_type": "code",
   "execution_count": 73,
   "metadata": {
    "collapsed": true
   },
   "outputs": [],
   "source": [
    "df = df[df['married'] > .5]\n",
    "df = df.join(pd.get_dummies(df['married'],prefix='married'))\n",
    "df = df.rename(index=str, columns={\"married_1.0\": \"married_never\", \n",
    "                              \"married_2.0\": \"married_currently\",\n",
    "                              \"married_3.0\": \"married_previously\"})"
   ]
  },
  {
   "cell_type": "markdown",
   "metadata": {},
   "source": [
    "## Define a \"liar\" / \"false confidence\" / \"validity\" column"
   ]
  },
  {
   "cell_type": "code",
   "execution_count": 74,
   "metadata": {
    "collapsed": true
   },
   "outputs": [],
   "source": [
    "df['liar'] = (df['VCL6'] == 1.0) | (df['VCL9'] == 1.0) | (df['VCL12'] == 1.0)"
   ]
  },
  {
   "cell_type": "markdown",
   "metadata": {},
   "source": [
    "## Use 0 and 1 instead of 1 and 2 for Y/N variables"
   ]
  },
  {
   "cell_type": "code",
   "execution_count": 38,
   "metadata": {
    "collapsed": true
   },
   "outputs": [],
   "source": [
    "df = df[df['gender'] < 3]\n",
    "df.loc[df['gender'] == 2,'gender'] = 0.0\n",
    "df.loc[df['engnat'] == 2,'engnat'] = 0.0\n",
    "df.loc[df['voted'] == 2,'voted'] = 0.0"
   ]
  },
  {
   "cell_type": "code",
   "execution_count": 39,
   "metadata": {},
   "outputs": [
    {
     "data": {
      "text/plain": [
       "3959"
      ]
     },
     "execution_count": 39,
     "metadata": {},
     "output_type": "execute_result"
    }
   ],
   "source": [
    "len(df)"
   ]
  },
  {
   "cell_type": "markdown",
   "metadata": {},
   "source": [
    "## Remove the old pre-dummy columns"
   ]
  },
  {
   "cell_type": "code",
   "execution_count": 40,
   "metadata": {
    "collapsed": true
   },
   "outputs": [],
   "source": [
    "df = df.drop(['operatingsystem','browser','E1','E2','E3','E4','E5','E6','E7','E8','E9','E10',\\\n",
    "              'N1','N2','N3','N4','N5','N6','N7','N8','N9','N10','A1','A2','A3','A4','A5',\\\n",
    "              'A6','A7','A8','A9','A10','C1','C2','C3','C4','C5','C6','C7','C8','C9','C10',\\\n",
    "              'O1','O2','O3','O4','O5','O6','O7','O8','O9','O10','GS1','GS2','GS3','GS4','GS5',\\\n",
    "              'GS6','GS7','GS8','GS9','GS10','GS11','GS12','country','VCL1','VCL2','VCL3','VCL4',\\\n",
    "              'VCL5','VCL6','VCL7','VCL8','VCL9','VCL10','VCL11','VCL12','VCL13','VCL14',\\\n",
    "              'VCL15','VCL16','race','orientation','religion','hand','urban','married'],axis=1)"
   ]
  },
  {
   "cell_type": "code",
   "execution_count": 41,
   "metadata": {},
   "outputs": [
    {
     "data": {
      "text/html": [
       "<div>\n",
       "<style>\n",
       "    .dataframe thead tr:only-child th {\n",
       "        text-align: right;\n",
       "    }\n",
       "\n",
       "    .dataframe thead th {\n",
       "        text-align: left;\n",
       "    }\n",
       "\n",
       "    .dataframe tbody tr th {\n",
       "        vertical-align: top;\n",
       "    }\n",
       "</style>\n",
       "<table border=\"1\" class=\"dataframe\">\n",
       "  <thead>\n",
       "    <tr style=\"text-align: right;\">\n",
       "      <th></th>\n",
       "      <th>surveyelapse</th>\n",
       "      <th>education</th>\n",
       "      <th>gender</th>\n",
       "      <th>engnat</th>\n",
       "      <th>age</th>\n",
       "      <th>voted</th>\n",
       "      <th>familysize</th>\n",
       "      <th>screenw</th>\n",
       "      <th>screenh</th>\n",
       "      <th>introelapse</th>\n",
       "      <th>...</th>\n",
       "      <th>orientation_other</th>\n",
       "      <th>race_asian</th>\n",
       "      <th>race_arab</th>\n",
       "      <th>race_black</th>\n",
       "      <th>race_white</th>\n",
       "      <th>race_other</th>\n",
       "      <th>married_never</th>\n",
       "      <th>married_currently</th>\n",
       "      <th>married_previously</th>\n",
       "      <th>liar</th>\n",
       "    </tr>\n",
       "  </thead>\n",
       "  <tbody>\n",
       "    <tr>\n",
       "      <th>0</th>\n",
       "      <td>174.0</td>\n",
       "      <td>4.0</td>\n",
       "      <td>0.0</td>\n",
       "      <td>0.0</td>\n",
       "      <td>28.0</td>\n",
       "      <td>1.0</td>\n",
       "      <td>2.0</td>\n",
       "      <td>1366.0</td>\n",
       "      <td>768.0</td>\n",
       "      <td>69590.0</td>\n",
       "      <td>...</td>\n",
       "      <td>0</td>\n",
       "      <td>0</td>\n",
       "      <td>0</td>\n",
       "      <td>0</td>\n",
       "      <td>1</td>\n",
       "      <td>0</td>\n",
       "      <td>1</td>\n",
       "      <td>0</td>\n",
       "      <td>0</td>\n",
       "      <td>False</td>\n",
       "    </tr>\n",
       "    <tr>\n",
       "      <th>1</th>\n",
       "      <td>120.0</td>\n",
       "      <td>2.0</td>\n",
       "      <td>0.0</td>\n",
       "      <td>1.0</td>\n",
       "      <td>19.0</td>\n",
       "      <td>0.0</td>\n",
       "      <td>3.0</td>\n",
       "      <td>1280.0</td>\n",
       "      <td>800.0</td>\n",
       "      <td>33657.0</td>\n",
       "      <td>...</td>\n",
       "      <td>0</td>\n",
       "      <td>0</td>\n",
       "      <td>0</td>\n",
       "      <td>0</td>\n",
       "      <td>1</td>\n",
       "      <td>0</td>\n",
       "      <td>1</td>\n",
       "      <td>0</td>\n",
       "      <td>0</td>\n",
       "      <td>True</td>\n",
       "    </tr>\n",
       "    <tr>\n",
       "      <th>3</th>\n",
       "      <td>5098.0</td>\n",
       "      <td>3.0</td>\n",
       "      <td>0.0</td>\n",
       "      <td>1.0</td>\n",
       "      <td>30.0</td>\n",
       "      <td>1.0</td>\n",
       "      <td>6.0</td>\n",
       "      <td>1600.0</td>\n",
       "      <td>900.0</td>\n",
       "      <td>4.0</td>\n",
       "      <td>...</td>\n",
       "      <td>0</td>\n",
       "      <td>0</td>\n",
       "      <td>0</td>\n",
       "      <td>1</td>\n",
       "      <td>0</td>\n",
       "      <td>0</td>\n",
       "      <td>1</td>\n",
       "      <td>0</td>\n",
       "      <td>0</td>\n",
       "      <td>False</td>\n",
       "    </tr>\n",
       "    <tr>\n",
       "      <th>4</th>\n",
       "      <td>340.0</td>\n",
       "      <td>4.0</td>\n",
       "      <td>1.0</td>\n",
       "      <td>0.0</td>\n",
       "      <td>38.0</td>\n",
       "      <td>0.0</td>\n",
       "      <td>3.0</td>\n",
       "      <td>1920.0</td>\n",
       "      <td>1080.0</td>\n",
       "      <td>3.0</td>\n",
       "      <td>...</td>\n",
       "      <td>0</td>\n",
       "      <td>1</td>\n",
       "      <td>0</td>\n",
       "      <td>0</td>\n",
       "      <td>0</td>\n",
       "      <td>0</td>\n",
       "      <td>0</td>\n",
       "      <td>1</td>\n",
       "      <td>0</td>\n",
       "      <td>False</td>\n",
       "    </tr>\n",
       "    <tr>\n",
       "      <th>6</th>\n",
       "      <td>126.0</td>\n",
       "      <td>3.0</td>\n",
       "      <td>1.0</td>\n",
       "      <td>1.0</td>\n",
       "      <td>35.0</td>\n",
       "      <td>0.0</td>\n",
       "      <td>1.0</td>\n",
       "      <td>1366.0</td>\n",
       "      <td>768.0</td>\n",
       "      <td>36.0</td>\n",
       "      <td>...</td>\n",
       "      <td>0</td>\n",
       "      <td>0</td>\n",
       "      <td>0</td>\n",
       "      <td>0</td>\n",
       "      <td>1</td>\n",
       "      <td>0</td>\n",
       "      <td>0</td>\n",
       "      <td>0</td>\n",
       "      <td>1</td>\n",
       "      <td>False</td>\n",
       "    </tr>\n",
       "  </tbody>\n",
       "</table>\n",
       "<p>5 rows × 178 columns</p>\n",
       "</div>"
      ],
      "text/plain": [
       "   surveyelapse  education  gender  engnat   age  voted  familysize  screenw  \\\n",
       "0         174.0        4.0     0.0     0.0  28.0    1.0         2.0   1366.0   \n",
       "1         120.0        2.0     0.0     1.0  19.0    0.0         3.0   1280.0   \n",
       "3        5098.0        3.0     0.0     1.0  30.0    1.0         6.0   1600.0   \n",
       "4         340.0        4.0     1.0     0.0  38.0    0.0         3.0   1920.0   \n",
       "6         126.0        3.0     1.0     1.0  35.0    0.0         1.0   1366.0   \n",
       "\n",
       "   screenh  introelapse  ...    orientation_other  race_asian  race_arab  \\\n",
       "0    768.0      69590.0  ...                    0           0          0   \n",
       "1    800.0      33657.0  ...                    0           0          0   \n",
       "3    900.0          4.0  ...                    0           0          0   \n",
       "4   1080.0          3.0  ...                    0           1          0   \n",
       "6    768.0         36.0  ...                    0           0          0   \n",
       "\n",
       "   race_black  race_white  race_other  married_never  married_currently  \\\n",
       "0           0           1           0              1                  0   \n",
       "1           0           1           0              1                  0   \n",
       "3           1           0           0              1                  0   \n",
       "4           0           0           0              0                  1   \n",
       "6           0           1           0              0                  0   \n",
       "\n",
       "   married_previously   liar  \n",
       "0                   0  False  \n",
       "1                   0   True  \n",
       "3                   0  False  \n",
       "4                   0  False  \n",
       "6                   1  False  \n",
       "\n",
       "[5 rows x 178 columns]"
      ]
     },
     "execution_count": 41,
     "metadata": {},
     "output_type": "execute_result"
    }
   ],
   "source": [
    "df.head()"
   ]
  },
  {
   "cell_type": "markdown",
   "metadata": {},
   "source": [
    "## Save the cleaned data"
   ]
  },
  {
   "cell_type": "code",
   "execution_count": 42,
   "metadata": {
    "collapsed": true
   },
   "outputs": [],
   "source": [
    "df.to_csv(\"../duckworth-grit-scale-data/cleanData.csv\")"
   ]
  }
 ],
 "metadata": {
  "kernelspec": {
   "display_name": "Python 2",
   "language": "python",
   "name": "python2"
  },
  "language_info": {
   "codemirror_mode": {
    "name": "ipython",
    "version": 2
   },
   "file_extension": ".py",
   "mimetype": "text/x-python",
   "name": "python",
   "nbconvert_exporter": "python",
   "pygments_lexer": "ipython2",
   "version": "2.7.13"
  }
 },
 "nbformat": 4,
 "nbformat_minor": 2
}
