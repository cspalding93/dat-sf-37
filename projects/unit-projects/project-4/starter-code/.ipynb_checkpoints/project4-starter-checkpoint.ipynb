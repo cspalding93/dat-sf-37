{
 "cells": [
  {
   "cell_type": "markdown",
   "metadata": {},
   "source": [
    "# Project 4\n",
    "\n",
    "In this project, you will summarize and present your analysis from Projects 1-3."
   ]
  },
  {
   "cell_type": "markdown",
   "metadata": {},
   "source": [
    "### Intro: Write a problem Statement/ Specific Aim for this project"
   ]
  },
  {
   "cell_type": "markdown",
   "metadata": {},
   "source": [
    "Answer: Using the admissions dataset, how can we describe what attributes contribute to a successful student admission. The attributes we will look at are GRE score, GPA, and college rank, which will help describe our dependant variable, 'admit'."
   ]
  },
  {
   "cell_type": "markdown",
   "metadata": {},
   "source": [
    "### Dataset:  Write up a description of your data and any cleaning that was completed"
   ]
  },
  {
   "cell_type": "markdown",
   "metadata": {},
   "source": [
    "Answer: The data contains 'gre' (the student's GRE score), 'gpa' (the student's GPA in their undergraduate program), and 'prestige' (how well their undraduate program ranks amungst all schools) as well as whether or not the student was admitted into a graduate program.  \n",
    "\n",
    "For the most part, the data was in a usable format as given.  However, the prestige of the school can be considered a categorical column, so I created a column for each prestige and filled it with a 1 if the student's undergrad program had that prestige.  Otherwise, it's filled with a 0.  I also had to drop rows in the data that wasn't recorded."
   ]
  },
  {
   "cell_type": "markdown",
   "metadata": {
    "collapsed": true
   },
   "source": [
    "### Demo: Provide a table that explains the data by admission status"
   ]
  },
  {
   "cell_type": "code",
   "execution_count": 12,
   "metadata": {},
   "outputs": [
    {
     "data": {
      "text/html": [
       "<div>\n",
       "<style>\n",
       "    .dataframe thead tr:only-child th {\n",
       "        text-align: right;\n",
       "    }\n",
       "\n",
       "    .dataframe thead th {\n",
       "        text-align: left;\n",
       "    }\n",
       "\n",
       "    .dataframe tbody tr th {\n",
       "        vertical-align: top;\n",
       "    }\n",
       "</style>\n",
       "<table border=\"1\" class=\"dataframe\">\n",
       "  <thead>\n",
       "    <tr style=\"text-align: right;\">\n",
       "      <th></th>\n",
       "      <th>admit</th>\n",
       "      <th>gre</th>\n",
       "      <th>gpa</th>\n",
       "      <th>prestige</th>\n",
       "      <th>1.0</th>\n",
       "      <th>2.0</th>\n",
       "      <th>3.0</th>\n",
       "      <th>4.0</th>\n",
       "    </tr>\n",
       "  </thead>\n",
       "  <tbody>\n",
       "    <tr>\n",
       "      <th>count</th>\n",
       "      <td>127.0</td>\n",
       "      <td>127.000000</td>\n",
       "      <td>126.000000</td>\n",
       "      <td>126.000000</td>\n",
       "      <td>127.000000</td>\n",
       "      <td>127.000000</td>\n",
       "      <td>127.000000</td>\n",
       "      <td>127.000000</td>\n",
       "    </tr>\n",
       "    <tr>\n",
       "      <th>mean</th>\n",
       "      <td>1.0</td>\n",
       "      <td>618.897638</td>\n",
       "      <td>3.489206</td>\n",
       "      <td>2.150794</td>\n",
       "      <td>0.259843</td>\n",
       "      <td>0.417323</td>\n",
       "      <td>0.220472</td>\n",
       "      <td>0.094488</td>\n",
       "    </tr>\n",
       "    <tr>\n",
       "      <th>std</th>\n",
       "      <td>0.0</td>\n",
       "      <td>108.884884</td>\n",
       "      <td>0.371655</td>\n",
       "      <td>0.921455</td>\n",
       "      <td>0.440285</td>\n",
       "      <td>0.495070</td>\n",
       "      <td>0.416207</td>\n",
       "      <td>0.293665</td>\n",
       "    </tr>\n",
       "    <tr>\n",
       "      <th>min</th>\n",
       "      <td>1.0</td>\n",
       "      <td>300.000000</td>\n",
       "      <td>2.420000</td>\n",
       "      <td>1.000000</td>\n",
       "      <td>0.000000</td>\n",
       "      <td>0.000000</td>\n",
       "      <td>0.000000</td>\n",
       "      <td>0.000000</td>\n",
       "    </tr>\n",
       "    <tr>\n",
       "      <th>25%</th>\n",
       "      <td>1.0</td>\n",
       "      <td>540.000000</td>\n",
       "      <td>3.220000</td>\n",
       "      <td>1.000000</td>\n",
       "      <td>0.000000</td>\n",
       "      <td>0.000000</td>\n",
       "      <td>0.000000</td>\n",
       "      <td>0.000000</td>\n",
       "    </tr>\n",
       "    <tr>\n",
       "      <th>50%</th>\n",
       "      <td>1.0</td>\n",
       "      <td>620.000000</td>\n",
       "      <td>3.545000</td>\n",
       "      <td>2.000000</td>\n",
       "      <td>0.000000</td>\n",
       "      <td>0.000000</td>\n",
       "      <td>0.000000</td>\n",
       "      <td>0.000000</td>\n",
       "    </tr>\n",
       "    <tr>\n",
       "      <th>75%</th>\n",
       "      <td>1.0</td>\n",
       "      <td>680.000000</td>\n",
       "      <td>3.757500</td>\n",
       "      <td>3.000000</td>\n",
       "      <td>1.000000</td>\n",
       "      <td>1.000000</td>\n",
       "      <td>0.000000</td>\n",
       "      <td>0.000000</td>\n",
       "    </tr>\n",
       "    <tr>\n",
       "      <th>max</th>\n",
       "      <td>1.0</td>\n",
       "      <td>800.000000</td>\n",
       "      <td>4.000000</td>\n",
       "      <td>4.000000</td>\n",
       "      <td>1.000000</td>\n",
       "      <td>1.000000</td>\n",
       "      <td>1.000000</td>\n",
       "      <td>1.000000</td>\n",
       "    </tr>\n",
       "  </tbody>\n",
       "</table>\n",
       "</div>"
      ],
      "text/plain": [
       "       admit         gre         gpa    prestige         1.0         2.0  \\\n",
       "count  127.0  127.000000  126.000000  126.000000  127.000000  127.000000   \n",
       "mean     1.0  618.897638    3.489206    2.150794    0.259843    0.417323   \n",
       "std      0.0  108.884884    0.371655    0.921455    0.440285    0.495070   \n",
       "min      1.0  300.000000    2.420000    1.000000    0.000000    0.000000   \n",
       "25%      1.0  540.000000    3.220000    1.000000    0.000000    0.000000   \n",
       "50%      1.0  620.000000    3.545000    2.000000    0.000000    0.000000   \n",
       "75%      1.0  680.000000    3.757500    3.000000    1.000000    1.000000   \n",
       "max      1.0  800.000000    4.000000    4.000000    1.000000    1.000000   \n",
       "\n",
       "              3.0         4.0  \n",
       "count  127.000000  127.000000  \n",
       "mean     0.220472    0.094488  \n",
       "std      0.416207    0.293665  \n",
       "min      0.000000    0.000000  \n",
       "25%      0.000000    0.000000  \n",
       "50%      0.000000    0.000000  \n",
       "75%      0.000000    0.000000  \n",
       "max      1.000000    1.000000  "
      ]
     },
     "execution_count": 12,
     "metadata": {},
     "output_type": "execute_result"
    }
   ],
   "source": [
    "import pandas as pd\n",
    "df_raw = pd.read_csv(\"../assets/admissions.csv\")\n",
    "df_raw = df_raw.join(pd.get_dummies(data=df_raw['prestige']))\n",
    "df_admit = df_raw[df_raw['admit'] == 1]\n",
    "df_fail = df_raw[df_raw['admit'] == 0]\n",
    "df_admit.describe()"
   ]
  },
  {
   "cell_type": "code",
   "execution_count": 13,
   "metadata": {},
   "outputs": [
    {
     "data": {
      "text/html": [
       "<div>\n",
       "<style>\n",
       "    .dataframe thead tr:only-child th {\n",
       "        text-align: right;\n",
       "    }\n",
       "\n",
       "    .dataframe thead th {\n",
       "        text-align: left;\n",
       "    }\n",
       "\n",
       "    .dataframe tbody tr th {\n",
       "        vertical-align: top;\n",
       "    }\n",
       "</style>\n",
       "<table border=\"1\" class=\"dataframe\">\n",
       "  <thead>\n",
       "    <tr style=\"text-align: right;\">\n",
       "      <th></th>\n",
       "      <th>admit</th>\n",
       "      <th>gre</th>\n",
       "      <th>gpa</th>\n",
       "      <th>prestige</th>\n",
       "      <th>1.0</th>\n",
       "      <th>2.0</th>\n",
       "      <th>3.0</th>\n",
       "      <th>4.0</th>\n",
       "    </tr>\n",
       "  </thead>\n",
       "  <tbody>\n",
       "    <tr>\n",
       "      <th>count</th>\n",
       "      <td>273.0</td>\n",
       "      <td>271.000000</td>\n",
       "      <td>272.000000</td>\n",
       "      <td>273.000000</td>\n",
       "      <td>273.000000</td>\n",
       "      <td>273.000000</td>\n",
       "      <td>273.000000</td>\n",
       "      <td>273.000000</td>\n",
       "    </tr>\n",
       "    <tr>\n",
       "      <th>mean</th>\n",
       "      <td>0.0</td>\n",
       "      <td>573.579336</td>\n",
       "      <td>3.345404</td>\n",
       "      <td>2.641026</td>\n",
       "      <td>0.102564</td>\n",
       "      <td>0.355311</td>\n",
       "      <td>0.340659</td>\n",
       "      <td>0.201465</td>\n",
       "    </tr>\n",
       "    <tr>\n",
       "      <th>std</th>\n",
       "      <td>0.0</td>\n",
       "      <td>116.052798</td>\n",
       "      <td>0.376773</td>\n",
       "      <td>0.917198</td>\n",
       "      <td>0.303946</td>\n",
       "      <td>0.479487</td>\n",
       "      <td>0.474801</td>\n",
       "      <td>0.401831</td>\n",
       "    </tr>\n",
       "    <tr>\n",
       "      <th>min</th>\n",
       "      <td>0.0</td>\n",
       "      <td>220.000000</td>\n",
       "      <td>2.260000</td>\n",
       "      <td>1.000000</td>\n",
       "      <td>0.000000</td>\n",
       "      <td>0.000000</td>\n",
       "      <td>0.000000</td>\n",
       "      <td>0.000000</td>\n",
       "    </tr>\n",
       "    <tr>\n",
       "      <th>25%</th>\n",
       "      <td>0.0</td>\n",
       "      <td>500.000000</td>\n",
       "      <td>3.080000</td>\n",
       "      <td>2.000000</td>\n",
       "      <td>0.000000</td>\n",
       "      <td>0.000000</td>\n",
       "      <td>0.000000</td>\n",
       "      <td>0.000000</td>\n",
       "    </tr>\n",
       "    <tr>\n",
       "      <th>50%</th>\n",
       "      <td>0.0</td>\n",
       "      <td>580.000000</td>\n",
       "      <td>3.340000</td>\n",
       "      <td>3.000000</td>\n",
       "      <td>0.000000</td>\n",
       "      <td>0.000000</td>\n",
       "      <td>0.000000</td>\n",
       "      <td>0.000000</td>\n",
       "    </tr>\n",
       "    <tr>\n",
       "      <th>75%</th>\n",
       "      <td>0.0</td>\n",
       "      <td>660.000000</td>\n",
       "      <td>3.610000</td>\n",
       "      <td>3.000000</td>\n",
       "      <td>0.000000</td>\n",
       "      <td>1.000000</td>\n",
       "      <td>1.000000</td>\n",
       "      <td>0.000000</td>\n",
       "    </tr>\n",
       "    <tr>\n",
       "      <th>max</th>\n",
       "      <td>0.0</td>\n",
       "      <td>800.000000</td>\n",
       "      <td>4.000000</td>\n",
       "      <td>4.000000</td>\n",
       "      <td>1.000000</td>\n",
       "      <td>1.000000</td>\n",
       "      <td>1.000000</td>\n",
       "      <td>1.000000</td>\n",
       "    </tr>\n",
       "  </tbody>\n",
       "</table>\n",
       "</div>"
      ],
      "text/plain": [
       "       admit         gre         gpa    prestige         1.0         2.0  \\\n",
       "count  273.0  271.000000  272.000000  273.000000  273.000000  273.000000   \n",
       "mean     0.0  573.579336    3.345404    2.641026    0.102564    0.355311   \n",
       "std      0.0  116.052798    0.376773    0.917198    0.303946    0.479487   \n",
       "min      0.0  220.000000    2.260000    1.000000    0.000000    0.000000   \n",
       "25%      0.0  500.000000    3.080000    2.000000    0.000000    0.000000   \n",
       "50%      0.0  580.000000    3.340000    3.000000    0.000000    0.000000   \n",
       "75%      0.0  660.000000    3.610000    3.000000    0.000000    1.000000   \n",
       "max      0.0  800.000000    4.000000    4.000000    1.000000    1.000000   \n",
       "\n",
       "              3.0         4.0  \n",
       "count  273.000000  273.000000  \n",
       "mean     0.340659    0.201465  \n",
       "std      0.474801    0.401831  \n",
       "min      0.000000    0.000000  \n",
       "25%      0.000000    0.000000  \n",
       "50%      0.000000    0.000000  \n",
       "75%      1.000000    0.000000  \n",
       "max      1.000000    1.000000  "
      ]
     },
     "execution_count": 13,
     "metadata": {},
     "output_type": "execute_result"
    }
   ],
   "source": [
    "df_fail.describe()"
   ]
  },
  {
   "cell_type": "markdown",
   "metadata": {},
   "source": [
    "Mean (STD) or counts by admission status for each variable \n",
    "\n",
    "| Not Admitted | Admitted\n",
    "---| ---|---\n",
    "Count | 273 | 127\n",
    "GPA | mean: 3.345 - std: .377  | mean: 3.489 - std: .372\n",
    "GRE | mean: 573.579 - 116.053 | mean: 618.898 - std: 108.885\n",
    "Prestige 1 | 10.26% | 25.98%\n",
    "Prestige 2 | 35.53% | 41.73%\n",
    "Prestige 3 | 34.07% | 22.05%\n",
    "Prestige 4 | 20.15% | 9.45%"
   ]
  },
  {
   "cell_type": "markdown",
   "metadata": {},
   "source": [
    "### Methods: Write up the methods used in your analysis"
   ]
  },
  {
   "cell_type": "markdown",
   "metadata": {},
   "source": [
    "Answer:  When comparing the differences in the means for admitted and non-admitted students, I used bootstrapping to take random samples with replacement from our dataset to get a confidence interval for the means.\n",
    "\n",
    "Pandas was used for summary statistics and column correlations, as well as data preparation and cleansing.\n",
    "\n",
    "Seaborn and Matplotlib were used for basic visualizations.  Histograms, boxplots, heatmaps, and violin plots were used to understand the data, and pyplot was used to track admission probability as GRE/GPA increased.\n",
    "\n",
    "Logistic regression was used to predict admission probability from our features, as well as gave us a better understanding of how our features relataed to admission."
   ]
  },
  {
   "cell_type": "markdown",
   "metadata": {},
   "source": [
    "### Results: Write up your results"
   ]
  },
  {
   "cell_type": "markdown",
   "metadata": {},
   "source": [
    "Answer:  After reviewing the bootstrapping analysis for differences in GPA of admitted and non admitted students, I'm 90% confident there is a difference in means for these two groups.  \n",
    "\n",
    "Generating a heatmap of features taught me that GPA and GRE are colinear (they are strongly correlated to each other). Both have a possitive impact on admission.\n",
    "\n",
    "Through calculating the odds ratio, I learned that the odds to getting admitted increase 3x when you go to a top school while you're odds are cut in half for admission if you go to a #4 ranked college.  In addition, Per point incrase in GPA roughly doubls the odds of being addmitted.\n",
    "\n",
    "Last, with logistic regression, I am able to generate a percent chance of admission or rejection based on the independant variables, as well as find which variables play the most significant role in admission."
   ]
  },
  {
   "cell_type": "markdown",
   "metadata": {},
   "source": [
    "### Visuals: Provide a table or visualization of these results"
   ]
  },
  {
   "cell_type": "code",
   "execution_count": 16,
   "metadata": {},
   "outputs": [
    {
     "data": {
      "text/plain": [
       "<matplotlib.axes._subplots.AxesSubplot at 0x117ffd550>"
      ]
     },
     "execution_count": 16,
     "metadata": {},
     "output_type": "execute_result"
    },
    {
     "data": {
      "image/png": "[encoded data removed]",
      "text/plain": [
       "<matplotlib.figure.Figure at 0x118031e10>"
      ]
     },
     "metadata": {},
     "output_type": "display_data"
    }
   ],
   "source": [
    "df = df_raw.dropna()\n",
    "import seaborn as sns\n",
    "%matplotlib inline\n",
    "\n",
    "#Differences in counts based on prestige and whether or not a student was admitted\n",
    "sns.violinplot(df['admit'],df['prestige'])"
   ]
  },
  {
   "cell_type": "code",
   "execution_count": 18,
   "metadata": {},
   "outputs": [
    {
     "data": {
      "text/plain": [
       "<matplotlib.axes._subplots.AxesSubplot at 0x11b516290>"
      ]
     },
     "execution_count": 18,
     "metadata": {},
     "output_type": "execute_result"
    },
    {
     "data": {
      "image/png": "[encoded data removed]",
      "text/plain": [
       "<matplotlib.figure.Figure at 0x1156c4910>"
      ]
     },
     "metadata": {},
     "output_type": "display_data"
    }
   ],
   "source": [
    "#Strength of correlation between all features\n",
    "sns.heatmap(df.corr())"
   ]
  },
  {
   "cell_type": "code",
   "execution_count": 22,
   "metadata": {},
   "outputs": [
    {
     "data": {
      "text/plain": [
       "<matplotlib.lines.Line2D at 0x117fb4d90>"
      ]
     },
     "execution_count": 22,
     "metadata": {},
     "output_type": "execute_result"
    },
    {
     "data": {
      "image/png": "[encoded data removed]",
      "text/plain": [
       "<matplotlib.figure.Figure at 0x11b62cbd0>"
      ]
     },
     "metadata": {},
     "output_type": "display_data"
    }
   ],
   "source": [
    "#Bootstrapping visualization for the average gpa for students not admitted.\n",
    "import numpy as np\n",
    "import matplotlib.pyplot as plt\n",
    "def mean_gpa_est(data):\n",
    "    sample_of_sample = [np.random.choice(data['gpa'],size=len(data),replace=True)]\n",
    "    return np.mean(sample_of_sample)\n",
    "not_admitted = df[df['admit'] == 0]\n",
    "len(not_admitted)\n",
    "gpa_means = [mean_gpa_est(not_admitted) for _ in range(1000)]\n",
    "\n",
    "fig, ax = plt.subplots()\n",
    "sns.distplot(gpa_means)\n",
    "ax.axvline(np.mean(not_admitted['gpa']),linestyle='--',color='red')"
   ]
  },
  {
   "cell_type": "markdown",
   "metadata": {},
   "source": [
    "### Discussion: Write up your discussion and future steps"
   ]
  },
  {
   "cell_type": "markdown",
   "metadata": {},
   "source": [
    "Answer: There are clear, explainable differences for those who were admitted and not.  As our intuition would tell us, a higher GPA, a higher GRE score, and attending a more prestigous undergrad program help a student's chances of being admitted.\n",
    "\n",
    "As always, future steps include collecting more data.  With more features we can better predict admission rates and find out other important factors for being admitted.  We can also try different classification models to increase our accuracy.  Logistic regression is good, but we could also try a Random Forest classifier or a neural network."
   ]
  },
  {
   "cell_type": "code",
   "execution_count": null,
   "metadata": {
    "collapsed": true
   },
   "outputs": [],
   "source": []
  }
 ],
 "metadata": {
  "kernelspec": {
   "display_name": "Python 2",
   "language": "python",
   "name": "python2"
  },
  "language_info": {
   "codemirror_mode": {
    "name": "ipython",
    "version": 2
   },
   "file_extension": ".py",
   "mimetype": "text/x-python",
   "name": "python",
   "nbconvert_exporter": "python",
   "pygments_lexer": "ipython2",
   "version": "2.7.13"
  }
 },
 "nbformat": 4,
 "nbformat_minor": 1
}
