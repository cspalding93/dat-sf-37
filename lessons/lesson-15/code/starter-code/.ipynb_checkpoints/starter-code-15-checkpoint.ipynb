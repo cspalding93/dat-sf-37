{
 "cells": [
  {
   "cell_type": "code",
   "execution_count": 1,
   "metadata": {
    "collapsed": true
   },
   "outputs": [],
   "source": [
    "import pandas as pd\n",
    "import numpy as np\n",
    "\n",
    "%matplotlib inline"
   ]
  },
  {
   "cell_type": "markdown",
   "metadata": {},
   "source": [
    "### Walmart Sales Data\n",
    "\n",
    "For the independent practice, we will analyze the weekly sales data from Walmart over a two year period from 2010 to 2012.\n",
    "\n",
    "The data is again separated by store and by department, but we will focus on analyzing one store for simplicity.\n",
    "\n",
    "The data includes:\n",
    "\n",
    "- Store - the store number\n",
    "- Dept - the department number\n",
    "- Date - the week\n",
    "- Weekly_Sales -  sales for the given department in the given store\n",
    "- IsHoliday - whether the week is a special holiday week\n"
   ]
  },
  {
   "cell_type": "markdown",
   "metadata": {},
   "source": [
    "#### Loading the data and setting the DateTimeIndex"
   ]
  },
  {
   "cell_type": "code",
   "execution_count": 2,
   "metadata": {},
   "outputs": [
    {
     "data": {
      "text/html": [
       "<div>\n",
       "<style>\n",
       "    .dataframe thead tr:only-child th {\n",
       "        text-align: right;\n",
       "    }\n",
       "\n",
       "    .dataframe thead th {\n",
       "        text-align: left;\n",
       "    }\n",
       "\n",
       "    .dataframe tbody tr th {\n",
       "        vertical-align: top;\n",
       "    }\n",
       "</style>\n",
       "<table border=\"1\" class=\"dataframe\">\n",
       "  <thead>\n",
       "    <tr style=\"text-align: right;\">\n",
       "      <th></th>\n",
       "      <th>Store</th>\n",
       "      <th>Dept</th>\n",
       "      <th>Weekly_Sales</th>\n",
       "      <th>IsHoliday</th>\n",
       "    </tr>\n",
       "    <tr>\n",
       "      <th>Date</th>\n",
       "      <th></th>\n",
       "      <th></th>\n",
       "      <th></th>\n",
       "      <th></th>\n",
       "    </tr>\n",
       "  </thead>\n",
       "  <tbody>\n",
       "    <tr>\n",
       "      <th>2010-02-05</th>\n",
       "      <td>1</td>\n",
       "      <td>1</td>\n",
       "      <td>24924.50</td>\n",
       "      <td>False</td>\n",
       "    </tr>\n",
       "    <tr>\n",
       "      <th>2010-02-12</th>\n",
       "      <td>1</td>\n",
       "      <td>1</td>\n",
       "      <td>46039.49</td>\n",
       "      <td>True</td>\n",
       "    </tr>\n",
       "    <tr>\n",
       "      <th>2010-02-19</th>\n",
       "      <td>1</td>\n",
       "      <td>1</td>\n",
       "      <td>41595.55</td>\n",
       "      <td>False</td>\n",
       "    </tr>\n",
       "    <tr>\n",
       "      <th>2010-02-26</th>\n",
       "      <td>1</td>\n",
       "      <td>1</td>\n",
       "      <td>19403.54</td>\n",
       "      <td>False</td>\n",
       "    </tr>\n",
       "    <tr>\n",
       "      <th>2010-03-05</th>\n",
       "      <td>1</td>\n",
       "      <td>1</td>\n",
       "      <td>21827.90</td>\n",
       "      <td>False</td>\n",
       "    </tr>\n",
       "  </tbody>\n",
       "</table>\n",
       "</div>"
      ],
      "text/plain": [
       "            Store  Dept  Weekly_Sales  IsHoliday\n",
       "Date                                            \n",
       "2010-02-05      1     1      24924.50      False\n",
       "2010-02-12      1     1      46039.49       True\n",
       "2010-02-19      1     1      41595.55      False\n",
       "2010-02-26      1     1      19403.54      False\n",
       "2010-03-05      1     1      21827.90      False"
      ]
     },
     "execution_count": 2,
     "metadata": {},
     "output_type": "execute_result"
    }
   ],
   "source": [
    "data = pd.read_csv('../../assets/dataset/train.csv')\n",
    "data['Date'] = pd.to_datetime(data['Date'])\n",
    "data.set_index('Date', inplace=True)\n",
    "data.head()"
   ]
  },
  {
   "cell_type": "markdown",
   "metadata": {},
   "source": [
    "#### Filter the dataframe to Store 1 sales and aggregate over departments to compute the total sales per store."
   ]
  },
  {
   "cell_type": "code",
   "execution_count": null,
   "metadata": {
    "collapsed": true
   },
   "outputs": [],
   "source": [
    "# TODO\n",
    "data1 = data[data['Store'] == 1]"
   ]
  },
  {
   "cell_type": "code",
   "execution_count": 31,
   "metadata": {
    "collapsed": true
   },
   "outputs": [
    {
     "data": {
      "text/html": [
       "<div>\n",
       "<style>\n",
       "    .dataframe thead tr:only-child th {\n",
       "        text-align: right;\n",
       "    }\n",
       "\n",
       "    .dataframe thead th {\n",
       "        text-align: left;\n",
       "    }\n",
       "\n",
       "    .dataframe tbody tr th {\n",
       "        vertical-align: top;\n",
       "    }\n",
       "</style>\n",
       "<table border=\"1\" class=\"dataframe\">\n",
       "  <thead>\n",
       "    <tr style=\"text-align: right;\">\n",
       "      <th></th>\n",
       "      <th>Store</th>\n",
       "      <th>Dept</th>\n",
       "      <th>Weekly_Sales</th>\n",
       "      <th>IsHoliday</th>\n",
       "    </tr>\n",
       "    <tr>\n",
       "      <th>Date</th>\n",
       "      <th></th>\n",
       "      <th></th>\n",
       "      <th></th>\n",
       "      <th></th>\n",
       "    </tr>\n",
       "  </thead>\n",
       "  <tbody>\n",
       "    <tr>\n",
       "      <th>2010-02-07</th>\n",
       "      <td>73</td>\n",
       "      <td>3184</td>\n",
       "      <td>1643690.90</td>\n",
       "      <td>0.0</td>\n",
       "    </tr>\n",
       "    <tr>\n",
       "      <th>2010-02-14</th>\n",
       "      <td>72</td>\n",
       "      <td>3137</td>\n",
       "      <td>1641957.44</td>\n",
       "      <td>72.0</td>\n",
       "    </tr>\n",
       "    <tr>\n",
       "      <th>2010-02-21</th>\n",
       "      <td>73</td>\n",
       "      <td>3184</td>\n",
       "      <td>1611968.17</td>\n",
       "      <td>0.0</td>\n",
       "    </tr>\n",
       "    <tr>\n",
       "      <th>2010-02-28</th>\n",
       "      <td>72</td>\n",
       "      <td>3137</td>\n",
       "      <td>1409727.59</td>\n",
       "      <td>0.0</td>\n",
       "    </tr>\n",
       "    <tr>\n",
       "      <th>2010-03-07</th>\n",
       "      <td>73</td>\n",
       "      <td>3215</td>\n",
       "      <td>1554806.68</td>\n",
       "      <td>0.0</td>\n",
       "    </tr>\n",
       "    <tr>\n",
       "      <th>2010-03-14</th>\n",
       "      <td>73</td>\n",
       "      <td>3184</td>\n",
       "      <td>1439541.59</td>\n",
       "      <td>0.0</td>\n",
       "    </tr>\n",
       "    <tr>\n",
       "      <th>2010-03-21</th>\n",
       "      <td>72</td>\n",
       "      <td>3137</td>\n",
       "      <td>1472515.79</td>\n",
       "      <td>0.0</td>\n",
       "    </tr>\n",
       "    <tr>\n",
       "      <th>2010-03-28</th>\n",
       "      <td>72</td>\n",
       "      <td>3137</td>\n",
       "      <td>1404429.92</td>\n",
       "      <td>0.0</td>\n",
       "    </tr>\n",
       "    <tr>\n",
       "      <th>2010-04-04</th>\n",
       "      <td>72</td>\n",
       "      <td>3137</td>\n",
       "      <td>1594968.28</td>\n",
       "      <td>0.0</td>\n",
       "    </tr>\n",
       "    <tr>\n",
       "      <th>2010-04-11</th>\n",
       "      <td>73</td>\n",
       "      <td>3184</td>\n",
       "      <td>1545418.53</td>\n",
       "      <td>0.0</td>\n",
       "    </tr>\n",
       "    <tr>\n",
       "      <th>2010-04-18</th>\n",
       "      <td>73</td>\n",
       "      <td>3215</td>\n",
       "      <td>1466058.28</td>\n",
       "      <td>0.0</td>\n",
       "    </tr>\n",
       "    <tr>\n",
       "      <th>2010-04-25</th>\n",
       "      <td>72</td>\n",
       "      <td>3137</td>\n",
       "      <td>1391256.12</td>\n",
       "      <td>0.0</td>\n",
       "    </tr>\n",
       "    <tr>\n",
       "      <th>2010-05-02</th>\n",
       "      <td>71</td>\n",
       "      <td>3119</td>\n",
       "      <td>1425100.71</td>\n",
       "      <td>0.0</td>\n",
       "    </tr>\n",
       "    <tr>\n",
       "      <th>2010-05-09</th>\n",
       "      <td>72</td>\n",
       "      <td>3197</td>\n",
       "      <td>1603955.12</td>\n",
       "      <td>0.0</td>\n",
       "    </tr>\n",
       "    <tr>\n",
       "      <th>2010-05-16</th>\n",
       "      <td>72</td>\n",
       "      <td>3137</td>\n",
       "      <td>1494251.50</td>\n",
       "      <td>0.0</td>\n",
       "    </tr>\n",
       "    <tr>\n",
       "      <th>2010-05-23</th>\n",
       "      <td>70</td>\n",
       "      <td>3071</td>\n",
       "      <td>1399662.07</td>\n",
       "      <td>0.0</td>\n",
       "    </tr>\n",
       "    <tr>\n",
       "      <th>2010-05-30</th>\n",
       "      <td>70</td>\n",
       "      <td>3071</td>\n",
       "      <td>1432069.95</td>\n",
       "      <td>0.0</td>\n",
       "    </tr>\n",
       "    <tr>\n",
       "      <th>2010-06-06</th>\n",
       "      <td>71</td>\n",
       "      <td>3089</td>\n",
       "      <td>1615524.71</td>\n",
       "      <td>0.0</td>\n",
       "    </tr>\n",
       "    <tr>\n",
       "      <th>2010-06-13</th>\n",
       "      <td>71</td>\n",
       "      <td>3092</td>\n",
       "      <td>1542561.09</td>\n",
       "      <td>0.0</td>\n",
       "    </tr>\n",
       "    <tr>\n",
       "      <th>2010-06-20</th>\n",
       "      <td>69</td>\n",
       "      <td>3026</td>\n",
       "      <td>1503284.06</td>\n",
       "      <td>0.0</td>\n",
       "    </tr>\n",
       "    <tr>\n",
       "      <th>2010-06-27</th>\n",
       "      <td>69</td>\n",
       "      <td>3026</td>\n",
       "      <td>1422711.60</td>\n",
       "      <td>0.0</td>\n",
       "    </tr>\n",
       "    <tr>\n",
       "      <th>2010-07-04</th>\n",
       "      <td>73</td>\n",
       "      <td>3314</td>\n",
       "      <td>1492418.14</td>\n",
       "      <td>0.0</td>\n",
       "    </tr>\n",
       "    <tr>\n",
       "      <th>2010-07-11</th>\n",
       "      <td>71</td>\n",
       "      <td>3170</td>\n",
       "      <td>1546074.18</td>\n",
       "      <td>0.0</td>\n",
       "    </tr>\n",
       "    <tr>\n",
       "      <th>2010-07-18</th>\n",
       "      <td>70</td>\n",
       "      <td>3122</td>\n",
       "      <td>1448938.92</td>\n",
       "      <td>0.0</td>\n",
       "    </tr>\n",
       "    <tr>\n",
       "      <th>2010-07-25</th>\n",
       "      <td>72</td>\n",
       "      <td>3215</td>\n",
       "      <td>1385065.20</td>\n",
       "      <td>0.0</td>\n",
       "    </tr>\n",
       "    <tr>\n",
       "      <th>2010-08-01</th>\n",
       "      <td>72</td>\n",
       "      <td>3215</td>\n",
       "      <td>1371986.60</td>\n",
       "      <td>0.0</td>\n",
       "    </tr>\n",
       "    <tr>\n",
       "      <th>2010-08-08</th>\n",
       "      <td>70</td>\n",
       "      <td>3122</td>\n",
       "      <td>1605491.78</td>\n",
       "      <td>0.0</td>\n",
       "    </tr>\n",
       "    <tr>\n",
       "      <th>2010-08-15</th>\n",
       "      <td>71</td>\n",
       "      <td>3170</td>\n",
       "      <td>1508237.76</td>\n",
       "      <td>0.0</td>\n",
       "    </tr>\n",
       "    <tr>\n",
       "      <th>2010-08-22</th>\n",
       "      <td>72</td>\n",
       "      <td>3188</td>\n",
       "      <td>1513080.49</td>\n",
       "      <td>0.0</td>\n",
       "    </tr>\n",
       "    <tr>\n",
       "      <th>2010-08-29</th>\n",
       "      <td>70</td>\n",
       "      <td>3089</td>\n",
       "      <td>1449142.92</td>\n",
       "      <td>0.0</td>\n",
       "    </tr>\n",
       "    <tr>\n",
       "      <th>...</th>\n",
       "      <td>...</td>\n",
       "      <td>...</td>\n",
       "      <td>...</td>\n",
       "      <td>...</td>\n",
       "    </tr>\n",
       "    <tr>\n",
       "      <th>2012-04-08</th>\n",
       "      <td>72</td>\n",
       "      <td>3236</td>\n",
       "      <td>1899676.88</td>\n",
       "      <td>0.0</td>\n",
       "    </tr>\n",
       "    <tr>\n",
       "      <th>2012-04-15</th>\n",
       "      <td>71</td>\n",
       "      <td>3182</td>\n",
       "      <td>1621031.70</td>\n",
       "      <td>0.0</td>\n",
       "    </tr>\n",
       "    <tr>\n",
       "      <th>2012-04-22</th>\n",
       "      <td>71</td>\n",
       "      <td>3137</td>\n",
       "      <td>1521577.87</td>\n",
       "      <td>0.0</td>\n",
       "    </tr>\n",
       "    <tr>\n",
       "      <th>2012-04-29</th>\n",
       "      <td>71</td>\n",
       "      <td>3137</td>\n",
       "      <td>1468928.37</td>\n",
       "      <td>0.0</td>\n",
       "    </tr>\n",
       "    <tr>\n",
       "      <th>2012-05-06</th>\n",
       "      <td>71</td>\n",
       "      <td>3182</td>\n",
       "      <td>1684519.99</td>\n",
       "      <td>0.0</td>\n",
       "    </tr>\n",
       "    <tr>\n",
       "      <th>2012-05-13</th>\n",
       "      <td>71</td>\n",
       "      <td>3137</td>\n",
       "      <td>1611096.05</td>\n",
       "      <td>0.0</td>\n",
       "    </tr>\n",
       "    <tr>\n",
       "      <th>2012-05-20</th>\n",
       "      <td>70</td>\n",
       "      <td>3119</td>\n",
       "      <td>1595901.87</td>\n",
       "      <td>0.0</td>\n",
       "    </tr>\n",
       "    <tr>\n",
       "      <th>2012-05-27</th>\n",
       "      <td>71</td>\n",
       "      <td>3137</td>\n",
       "      <td>1555444.55</td>\n",
       "      <td>0.0</td>\n",
       "    </tr>\n",
       "    <tr>\n",
       "      <th>2012-06-03</th>\n",
       "      <td>71</td>\n",
       "      <td>3137</td>\n",
       "      <td>1624477.58</td>\n",
       "      <td>0.0</td>\n",
       "    </tr>\n",
       "    <tr>\n",
       "      <th>2012-06-10</th>\n",
       "      <td>72</td>\n",
       "      <td>3184</td>\n",
       "      <td>1697230.96</td>\n",
       "      <td>0.0</td>\n",
       "    </tr>\n",
       "    <tr>\n",
       "      <th>2012-06-17</th>\n",
       "      <td>71</td>\n",
       "      <td>3218</td>\n",
       "      <td>1630607.00</td>\n",
       "      <td>0.0</td>\n",
       "    </tr>\n",
       "    <tr>\n",
       "      <th>2012-06-24</th>\n",
       "      <td>71</td>\n",
       "      <td>3218</td>\n",
       "      <td>1527845.81</td>\n",
       "      <td>0.0</td>\n",
       "    </tr>\n",
       "    <tr>\n",
       "      <th>2012-07-01</th>\n",
       "      <td>69</td>\n",
       "      <td>3065</td>\n",
       "      <td>1540421.49</td>\n",
       "      <td>0.0</td>\n",
       "    </tr>\n",
       "    <tr>\n",
       "      <th>2012-07-08</th>\n",
       "      <td>70</td>\n",
       "      <td>3119</td>\n",
       "      <td>1769854.16</td>\n",
       "      <td>0.0</td>\n",
       "    </tr>\n",
       "    <tr>\n",
       "      <th>2012-07-15</th>\n",
       "      <td>71</td>\n",
       "      <td>3218</td>\n",
       "      <td>1527014.04</td>\n",
       "      <td>0.0</td>\n",
       "    </tr>\n",
       "    <tr>\n",
       "      <th>2012-07-22</th>\n",
       "      <td>72</td>\n",
       "      <td>3236</td>\n",
       "      <td>1497954.76</td>\n",
       "      <td>0.0</td>\n",
       "    </tr>\n",
       "    <tr>\n",
       "      <th>2012-07-29</th>\n",
       "      <td>72</td>\n",
       "      <td>3265</td>\n",
       "      <td>1439123.71</td>\n",
       "      <td>0.0</td>\n",
       "    </tr>\n",
       "    <tr>\n",
       "      <th>2012-08-05</th>\n",
       "      <td>71</td>\n",
       "      <td>3218</td>\n",
       "      <td>1631135.79</td>\n",
       "      <td>0.0</td>\n",
       "    </tr>\n",
       "    <tr>\n",
       "      <th>2012-08-12</th>\n",
       "      <td>72</td>\n",
       "      <td>3265</td>\n",
       "      <td>1592409.97</td>\n",
       "      <td>0.0</td>\n",
       "    </tr>\n",
       "    <tr>\n",
       "      <th>2012-08-19</th>\n",
       "      <td>72</td>\n",
       "      <td>3236</td>\n",
       "      <td>1597868.05</td>\n",
       "      <td>0.0</td>\n",
       "    </tr>\n",
       "    <tr>\n",
       "      <th>2012-08-26</th>\n",
       "      <td>71</td>\n",
       "      <td>3188</td>\n",
       "      <td>1494122.38</td>\n",
       "      <td>0.0</td>\n",
       "    </tr>\n",
       "    <tr>\n",
       "      <th>2012-09-02</th>\n",
       "      <td>72</td>\n",
       "      <td>3236</td>\n",
       "      <td>1582083.40</td>\n",
       "      <td>0.0</td>\n",
       "    </tr>\n",
       "    <tr>\n",
       "      <th>2012-09-09</th>\n",
       "      <td>73</td>\n",
       "      <td>3281</td>\n",
       "      <td>1661767.33</td>\n",
       "      <td>73.0</td>\n",
       "    </tr>\n",
       "    <tr>\n",
       "      <th>2012-09-16</th>\n",
       "      <td>72</td>\n",
       "      <td>3236</td>\n",
       "      <td>1517428.87</td>\n",
       "      <td>0.0</td>\n",
       "    </tr>\n",
       "    <tr>\n",
       "      <th>2012-09-23</th>\n",
       "      <td>71</td>\n",
       "      <td>3128</td>\n",
       "      <td>1506126.06</td>\n",
       "      <td>0.0</td>\n",
       "    </tr>\n",
       "    <tr>\n",
       "      <th>2012-09-30</th>\n",
       "      <td>73</td>\n",
       "      <td>3229</td>\n",
       "      <td>1437059.26</td>\n",
       "      <td>0.0</td>\n",
       "    </tr>\n",
       "    <tr>\n",
       "      <th>2012-10-07</th>\n",
       "      <td>72</td>\n",
       "      <td>3236</td>\n",
       "      <td>1670785.97</td>\n",
       "      <td>0.0</td>\n",
       "    </tr>\n",
       "    <tr>\n",
       "      <th>2012-10-14</th>\n",
       "      <td>73</td>\n",
       "      <td>3281</td>\n",
       "      <td>1573072.81</td>\n",
       "      <td>0.0</td>\n",
       "    </tr>\n",
       "    <tr>\n",
       "      <th>2012-10-21</th>\n",
       "      <td>71</td>\n",
       "      <td>3137</td>\n",
       "      <td>1508068.77</td>\n",
       "      <td>0.0</td>\n",
       "    </tr>\n",
       "    <tr>\n",
       "      <th>2012-10-28</th>\n",
       "      <td>72</td>\n",
       "      <td>3182</td>\n",
       "      <td>1493659.74</td>\n",
       "      <td>0.0</td>\n",
       "    </tr>\n",
       "  </tbody>\n",
       "</table>\n",
       "<p>143 rows × 4 columns</p>\n",
       "</div>"
      ],
      "text/plain": [
       "            Store  Dept  Weekly_Sales  IsHoliday\n",
       "Date                                            \n",
       "2010-02-07     73  3184    1643690.90        0.0\n",
       "2010-02-14     72  3137    1641957.44       72.0\n",
       "2010-02-21     73  3184    1611968.17        0.0\n",
       "2010-02-28     72  3137    1409727.59        0.0\n",
       "2010-03-07     73  3215    1554806.68        0.0\n",
       "2010-03-14     73  3184    1439541.59        0.0\n",
       "2010-03-21     72  3137    1472515.79        0.0\n",
       "2010-03-28     72  3137    1404429.92        0.0\n",
       "2010-04-04     72  3137    1594968.28        0.0\n",
       "2010-04-11     73  3184    1545418.53        0.0\n",
       "2010-04-18     73  3215    1466058.28        0.0\n",
       "2010-04-25     72  3137    1391256.12        0.0\n",
       "2010-05-02     71  3119    1425100.71        0.0\n",
       "2010-05-09     72  3197    1603955.12        0.0\n",
       "2010-05-16     72  3137    1494251.50        0.0\n",
       "2010-05-23     70  3071    1399662.07        0.0\n",
       "2010-05-30     70  3071    1432069.95        0.0\n",
       "2010-06-06     71  3089    1615524.71        0.0\n",
       "2010-06-13     71  3092    1542561.09        0.0\n",
       "2010-06-20     69  3026    1503284.06        0.0\n",
       "2010-06-27     69  3026    1422711.60        0.0\n",
       "2010-07-04     73  3314    1492418.14        0.0\n",
       "2010-07-11     71  3170    1546074.18        0.0\n",
       "2010-07-18     70  3122    1448938.92        0.0\n",
       "2010-07-25     72  3215    1385065.20        0.0\n",
       "2010-08-01     72  3215    1371986.60        0.0\n",
       "2010-08-08     70  3122    1605491.78        0.0\n",
       "2010-08-15     71  3170    1508237.76        0.0\n",
       "2010-08-22     72  3188    1513080.49        0.0\n",
       "2010-08-29     70  3089    1449142.92        0.0\n",
       "...           ...   ...           ...        ...\n",
       "2012-04-08     72  3236    1899676.88        0.0\n",
       "2012-04-15     71  3182    1621031.70        0.0\n",
       "2012-04-22     71  3137    1521577.87        0.0\n",
       "2012-04-29     71  3137    1468928.37        0.0\n",
       "2012-05-06     71  3182    1684519.99        0.0\n",
       "2012-05-13     71  3137    1611096.05        0.0\n",
       "2012-05-20     70  3119    1595901.87        0.0\n",
       "2012-05-27     71  3137    1555444.55        0.0\n",
       "2012-06-03     71  3137    1624477.58        0.0\n",
       "2012-06-10     72  3184    1697230.96        0.0\n",
       "2012-06-17     71  3218    1630607.00        0.0\n",
       "2012-06-24     71  3218    1527845.81        0.0\n",
       "2012-07-01     69  3065    1540421.49        0.0\n",
       "2012-07-08     70  3119    1769854.16        0.0\n",
       "2012-07-15     71  3218    1527014.04        0.0\n",
       "2012-07-22     72  3236    1497954.76        0.0\n",
       "2012-07-29     72  3265    1439123.71        0.0\n",
       "2012-08-05     71  3218    1631135.79        0.0\n",
       "2012-08-12     72  3265    1592409.97        0.0\n",
       "2012-08-19     72  3236    1597868.05        0.0\n",
       "2012-08-26     71  3188    1494122.38        0.0\n",
       "2012-09-02     72  3236    1582083.40        0.0\n",
       "2012-09-09     73  3281    1661767.33       73.0\n",
       "2012-09-16     72  3236    1517428.87        0.0\n",
       "2012-09-23     71  3128    1506126.06        0.0\n",
       "2012-09-30     73  3229    1437059.26        0.0\n",
       "2012-10-07     72  3236    1670785.97        0.0\n",
       "2012-10-14     73  3281    1573072.81        0.0\n",
       "2012-10-21     71  3137    1508068.77        0.0\n",
       "2012-10-28     72  3182    1493659.74        0.0\n",
       "\n",
       "[143 rows x 4 columns]"
      ]
     },
     "execution_count": 31,
     "metadata": {},
     "output_type": "execute_result"
    }
   ],
   "source": [
    "data1.resample('W').sum()"
   ]
  },
  {
   "cell_type": "code",
   "execution_count": 16,
   "metadata": {
    "collapsed": true
   },
   "outputs": [],
   "source": [
    "data_agg = data1.resample('W').sum()"
   ]
  },
  {
   "cell_type": "markdown",
   "metadata": {},
   "source": [
    "#### Plot the rolling_mean for `Weekly_Sales`. What general trends do you observe?"
   ]
  },
  {
   "cell_type": "code",
   "execution_count": 38,
   "metadata": {},
   "outputs": [
    {
     "data": {
      "text/plain": [
       "<matplotlib.axes._subplots.AxesSubplot at 0x1198d0850>"
      ]
     },
     "execution_count": 38,
     "metadata": {},
     "output_type": "execute_result"
    },
    {
     "data": {
      "image/png": "[encoded data removed]",
      "text/plain": [
       "<matplotlib.figure.Figure at 0x115946310>"
      ]
     },
     "metadata": {},
     "output_type": "display_data"
    }
   ],
   "source": [
    "# TODO\n",
    "data_agg['Weekly_Sales'].rolling(window=3, center=True).mean().plot()"
   ]
  },
  {
   "cell_type": "markdown",
   "metadata": {},
   "source": [
    "It looks like there is a spike every December and a lul in January."
   ]
  },
  {
   "cell_type": "markdown",
   "metadata": {
    "collapsed": true
   },
   "source": [
    "#### Compute the 1, 2, 52 autocorrelations for `Weekly_Sales` and/or create an autocorrelation plot."
   ]
  },
  {
   "cell_type": "code",
   "execution_count": 28,
   "metadata": {},
   "outputs": [
    {
     "name": "stdout",
     "output_type": "stream",
     "text": [
      "0.302158279411\n",
      "0.127413130554\n",
      "0.238192940883\n",
      "0.895376029478\n"
     ]
    }
   ],
   "source": [
    "# TODO\n",
    "print data_agg['Weekly_Sales'].autocorr(lag=1)\n",
    "print data_agg['Weekly_Sales'].autocorr(lag=2)\n",
    "print data_agg['Weekly_Sales'].autocorr(lag=4)\n",
    "print data_agg['Weekly_Sales'].autocorr(lag=52)"
   ]
  },
  {
   "cell_type": "code",
   "execution_count": 30,
   "metadata": {},
   "outputs": [
    {
     "data": {
      "text/plain": [
       "<matplotlib.axes._subplots.AxesSubplot at 0x113b0f4d0>"
      ]
     },
     "execution_count": 30,
     "metadata": {},
     "output_type": "execute_result"
    },
    {
     "data": {
      "image/png": "[encoded data removed]",
      "text/plain": [
       "<matplotlib.figure.Figure at 0x115b01210>"
      ]
     },
     "metadata": {},
     "output_type": "display_data"
    }
   ],
   "source": [
    "# TODO\n",
    "from pandas.plotting import autocorrelation_plot\n",
    "autocorrelation_plot(data_agg['Weekly_Sales'])"
   ]
  },
  {
   "cell_type": "markdown",
   "metadata": {},
   "source": [
    "#### Split the weekly sales data in a training and test set - using 75% of the data for training"
   ]
  },
  {
   "cell_type": "code",
   "execution_count": 35,
   "metadata": {
    "collapsed": true
   },
   "outputs": [],
   "source": [
    "# TODO\n",
    "split = int(len(data_agg) * .75)"
   ]
  },
  {
   "cell_type": "code",
   "execution_count": 37,
   "metadata": {},
   "outputs": [],
   "source": [
    "train = data_agg[:split]\n",
    "test = data_agg[split:]"
   ]
  },
  {
   "cell_type": "code",
   "execution_count": 52,
   "metadata": {},
   "outputs": [
    {
     "name": "stdout",
     "output_type": "stream",
     "text": [
      "107\n",
      "36\n"
     ]
    }
   ],
   "source": [
    "print len(train)\n",
    "print len(test)"
   ]
  },
  {
   "cell_type": "markdown",
   "metadata": {},
   "source": [
    "#### Create an AR(1) model on the training data and compute the mean absolute error of the predictions."
   ]
  },
  {
   "cell_type": "code",
   "execution_count": null,
   "metadata": {
    "collapsed": true
   },
   "outputs": [],
   "source": [
    "import statsmodels.api as sm\n",
    "from sklearn.metrics import mean_absolute_error"
   ]
  },
  {
   "cell_type": "code",
   "execution_count": 48,
   "metadata": {},
   "outputs": [
    {
     "name": "stdout",
     "output_type": "stream",
     "text": [
      "                              ARMA Model Results                              \n",
      "==============================================================================\n",
      "Dep. Variable:           Weekly_Sales   No. Observations:                  107\n",
      "Model:                     ARMA(1, 0)   Log Likelihood               -1434.663\n",
      "Method:                       css-mle   S.D. of innovations         160916.939\n",
      "Date:                Wed, 13 Sep 2017   AIC                           2875.327\n",
      "Time:                        22:45:51   BIC                           2883.345\n",
      "Sample:                    02-07-2010   HQIC                          2878.577\n",
      "                         - 02-19-2012                                         \n",
      "======================================================================================\n",
      "                         coef    std err          z      P>|z|      [0.025      0.975]\n",
      "--------------------------------------------------------------------------------------\n",
      "const               1.544e+06   2.26e+04     68.293      0.000     1.5e+06    1.59e+06\n",
      "ar.L1.Weekly_Sales     0.3147      0.093      3.399      0.001       0.133       0.496\n",
      "                                    Roots                                    \n",
      "=============================================================================\n",
      "                 Real           Imaginary           Modulus         Frequency\n",
      "-----------------------------------------------------------------------------\n",
      "AR.1            3.1779           +0.0000j            3.1779            0.0000\n",
      "-----------------------------------------------------------------------------\n",
      "The mean absolute error of the predictions is: 110695.667153\n"
     ]
    }
   ],
   "source": [
    "# TODO\n",
    "from statsmodels.tsa.arima_model import ARIMA\n",
    "model = ARIMA(train['Weekly_Sales'], (1, 0, 0)).fit()\n",
    "print model.summary()\n",
    "print \"The mean absolute error of the predictions is: \" + str(np.mean(abs(model.resid)))"
   ]
  },
  {
   "cell_type": "code",
   "execution_count": 53,
   "metadata": {
    "collapsed": true
   },
   "outputs": [
    {
     "data": {
      "text/plain": [
       "2010-02-14    1.575211e+06\n",
       "2010-02-21    1.574665e+06\n",
       "2010-02-28    1.565228e+06\n",
       "2010-03-07    1.501589e+06\n",
       "2010-03-14    1.547241e+06\n",
       "2010-03-21    1.510971e+06\n",
       "2010-03-28    1.521347e+06\n",
       "2010-04-04    1.499922e+06\n",
       "2010-04-11    1.559879e+06\n",
       "2010-04-18    1.544287e+06\n",
       "2010-04-25    1.519315e+06\n",
       "2010-05-02    1.495777e+06\n",
       "2010-05-09    1.506426e+06\n",
       "2010-05-16    1.562707e+06\n",
       "2010-05-23    1.528186e+06\n",
       "2010-05-30    1.498422e+06\n",
       "2010-06-06    1.508619e+06\n",
       "2010-06-13    1.566348e+06\n",
       "2010-06-20    1.543388e+06\n",
       "2010-06-27    1.531029e+06\n",
       "2010-07-04    1.505675e+06\n",
       "2010-07-11    1.527609e+06\n",
       "2010-07-18    1.544493e+06\n",
       "2010-07-25    1.513928e+06\n",
       "2010-08-01    1.493828e+06\n",
       "2010-08-08    1.489713e+06\n",
       "2010-08-15    1.563190e+06\n",
       "2010-08-22    1.532587e+06\n",
       "2010-08-29    1.534111e+06\n",
       "2010-09-05    1.513992e+06\n",
       "2010-09-12    1.542633e+06\n",
       "2010-09-19    1.532343e+06\n",
       "2010-09-26    1.508087e+06\n",
       "2010-10-03    1.483358e+06\n",
       "2010-10-10    1.515309e+06\n",
       "2010-10-17    1.532588e+06\n",
       "Freq: W-SUN, dtype: float64"
      ]
     },
     "execution_count": 53,
     "metadata": {},
     "output_type": "execute_result"
    }
   ],
   "source": [
    "model.predict(1,36)#test['Weekly_Sales']"
   ]
  },
  {
   "cell_type": "code",
   "execution_count": 64,
   "metadata": {},
   "outputs": [
    {
     "data": {
      "image/png": "[encoded data removed]",
      "text/plain": [
       "<matplotlib.figure.Figure at 0x11c8b1490>"
      ]
     },
     "metadata": {},
     "output_type": "display_data"
    }
   ],
   "source": [
    "from matplotlib import pyplot as plt\n",
    "fig, ax = plt.subplots()\n",
    "ax = test['Weekly_Sales'].plot(ax=ax)\n",
    "\n",
    "fig = model.plot_predict(90, 143, ax=ax, plot_insample=False)"
   ]
  },
  {
   "cell_type": "code",
   "execution_count": 72,
   "metadata": {},
   "outputs": [
    {
     "data": {
      "text/plain": [
       "79378.330832275489"
      ]
     },
     "execution_count": 72,
     "metadata": {},
     "output_type": "execute_result"
    }
   ],
   "source": [
    "from sklearn.metrics import mean_absolute_error\n",
    "mean_absolute_error(test['Weekly_Sales'],model.predict(106,141))"
   ]
  },
  {
   "cell_type": "markdown",
   "metadata": {},
   "source": [
    "#### Plot the residuals - where are their significant errors."
   ]
  },
  {
   "cell_type": "code",
   "execution_count": 50,
   "metadata": {},
   "outputs": [
    {
     "data": {
      "text/plain": [
       "<matplotlib.axes._subplots.AxesSubplot at 0x11b9aa350>"
      ]
     },
     "execution_count": 50,
     "metadata": {},
     "output_type": "execute_result"
    },
    {
     "data": {
      "image/png": "[encoded data removed]",
      "text/plain": [
       "<matplotlib.figure.Figure at 0x11ba19a90>"
      ]
     },
     "metadata": {},
     "output_type": "display_data"
    }
   ],
   "source": [
    "# TODO\n",
    "model.resid.plot()"
   ]
  },
  {
   "cell_type": "markdown",
   "metadata": {},
   "source": [
    "It looks like I have the most error during the holidays"
   ]
  },
  {
   "cell_type": "markdown",
   "metadata": {},
   "source": [
    "#### Compute and AR(2) model and an ARMA(2, 2) model - does this improve your mean absolute error on the held out set."
   ]
  },
  {
   "cell_type": "code",
   "execution_count": 73,
   "metadata": {},
   "outputs": [
    {
     "name": "stdout",
     "output_type": "stream",
     "text": [
      "78361.0292453\n"
     ]
    }
   ],
   "source": [
    "# TODO\n",
    "model = ARIMA(train['Weekly_Sales'], (2, 0, 0)).fit()\n",
    "print mean_absolute_error(test['Weekly_Sales'],model.predict(106,141))"
   ]
  },
  {
   "cell_type": "code",
   "execution_count": 74,
   "metadata": {},
   "outputs": [
    {
     "name": "stdout",
     "output_type": "stream",
     "text": [
      "83980.3967462\n"
     ]
    }
   ],
   "source": [
    "# TODO\n",
    "model = ARIMA(train['Weekly_Sales'], (2, 0, 2)).fit()\n",
    "print mean_absolute_error(test['Weekly_Sales'],model.predict(106,141))"
   ]
  },
  {
   "cell_type": "markdown",
   "metadata": {},
   "source": [
    "#### Finally, compute an ARIMA model to improve your prediction error - iterate on the p, q, and parameters comparing the model's performance."
   ]
  },
  {
   "cell_type": "code",
   "execution_count": 89,
   "metadata": {
    "scrolled": false
   },
   "outputs": [
    {
     "name": "stdout",
     "output_type": "stream",
     "text": [
      "76892.1853179\n"
     ]
    }
   ],
   "source": [
    "# TODO\n",
    "model = ARIMA(train['Weekly_Sales'], (10, 0, 3)).fit()\n",
    "print mean_absolute_error(test['Weekly_Sales'],model.predict(106,141))"
   ]
  },
  {
   "cell_type": "code",
   "execution_count": null,
   "metadata": {
    "collapsed": true
   },
   "outputs": [],
   "source": []
  }
 ],
 "metadata": {
  "kernelspec": {
   "display_name": "Python 2",
   "language": "python",
   "name": "python2"
  },
  "language_info": {
   "codemirror_mode": {
    "name": "ipython",
    "version": 2
   },
   "file_extension": ".py",
   "mimetype": "text/x-python",
   "name": "python",
   "nbconvert_exporter": "python",
   "pygments_lexer": "ipython2",
   "version": "2.7.13"
  }
 },
 "nbformat": 4,
 "nbformat_minor": 1
}
